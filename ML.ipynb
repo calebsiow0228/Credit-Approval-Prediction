{
 "cells": [
  {
   "cell_type": "code",
   "execution_count": 1,
   "id": "a7ff8d70-0492-4722-8c57-9916bdb9c3b2",
   "metadata": {},
   "outputs": [],
   "source": [
    "#importing modules\n",
    "import pandas as pd \n",
    "import numpy as np \n",
    "import matplotlib.pyplot as plt\n",
    "%matplotlib inline\n",
    "import seaborn as sns"
   ]
  },
  {
   "cell_type": "code",
   "execution_count": 2,
   "id": "0de1284f-b3ff-48b5-8cc8-4e4fef6a1fca",
   "metadata": {},
   "outputs": [],
   "source": [
    "#Loading DataFrames\n",
    "df_app = pd.read_csv(\"application_record.csv\")\n",
    "df_credit = pd.read_csv(\"credit_record.csv\")"
   ]
  },
  {
   "cell_type": "code",
   "execution_count": 3,
   "id": "41ad08ca-a56b-4e9b-aceb-a7ac78b68fb1",
   "metadata": {},
   "outputs": [
    {
     "data": {
      "text/html": [
       "<div>\n",
       "<style scoped>\n",
       "    .dataframe tbody tr th:only-of-type {\n",
       "        vertical-align: middle;\n",
       "    }\n",
       "\n",
       "    .dataframe tbody tr th {\n",
       "        vertical-align: top;\n",
       "    }\n",
       "\n",
       "    .dataframe thead th {\n",
       "        text-align: right;\n",
       "    }\n",
       "</style>\n",
       "<table border=\"1\" class=\"dataframe\">\n",
       "  <thead>\n",
       "    <tr style=\"text-align: right;\">\n",
       "      <th></th>\n",
       "      <th>ID</th>\n",
       "      <th>CODE_GENDER</th>\n",
       "      <th>FLAG_OWN_CAR</th>\n",
       "      <th>FLAG_OWN_REALTY</th>\n",
       "      <th>CNT_CHILDREN</th>\n",
       "      <th>AMT_INCOME_TOTAL</th>\n",
       "      <th>NAME_INCOME_TYPE</th>\n",
       "      <th>NAME_EDUCATION_TYPE</th>\n",
       "      <th>NAME_FAMILY_STATUS</th>\n",
       "      <th>NAME_HOUSING_TYPE</th>\n",
       "      <th>DAYS_BIRTH</th>\n",
       "      <th>DAYS_EMPLOYED</th>\n",
       "      <th>FLAG_MOBIL</th>\n",
       "      <th>FLAG_WORK_PHONE</th>\n",
       "      <th>FLAG_PHONE</th>\n",
       "      <th>FLAG_EMAIL</th>\n",
       "      <th>OCCUPATION_TYPE</th>\n",
       "      <th>CNT_FAM_MEMBERS</th>\n",
       "    </tr>\n",
       "  </thead>\n",
       "  <tbody>\n",
       "    <tr>\n",
       "      <th>0</th>\n",
       "      <td>5008804</td>\n",
       "      <td>M</td>\n",
       "      <td>Y</td>\n",
       "      <td>Y</td>\n",
       "      <td>0</td>\n",
       "      <td>427500.0</td>\n",
       "      <td>Working</td>\n",
       "      <td>Higher education</td>\n",
       "      <td>Civil marriage</td>\n",
       "      <td>Rented apartment</td>\n",
       "      <td>-12005</td>\n",
       "      <td>-4542</td>\n",
       "      <td>1</td>\n",
       "      <td>1</td>\n",
       "      <td>0</td>\n",
       "      <td>0</td>\n",
       "      <td>NaN</td>\n",
       "      <td>2.0</td>\n",
       "    </tr>\n",
       "    <tr>\n",
       "      <th>1</th>\n",
       "      <td>5008805</td>\n",
       "      <td>M</td>\n",
       "      <td>Y</td>\n",
       "      <td>Y</td>\n",
       "      <td>0</td>\n",
       "      <td>427500.0</td>\n",
       "      <td>Working</td>\n",
       "      <td>Higher education</td>\n",
       "      <td>Civil marriage</td>\n",
       "      <td>Rented apartment</td>\n",
       "      <td>-12005</td>\n",
       "      <td>-4542</td>\n",
       "      <td>1</td>\n",
       "      <td>1</td>\n",
       "      <td>0</td>\n",
       "      <td>0</td>\n",
       "      <td>NaN</td>\n",
       "      <td>2.0</td>\n",
       "    </tr>\n",
       "    <tr>\n",
       "      <th>2</th>\n",
       "      <td>5008806</td>\n",
       "      <td>M</td>\n",
       "      <td>Y</td>\n",
       "      <td>Y</td>\n",
       "      <td>0</td>\n",
       "      <td>112500.0</td>\n",
       "      <td>Working</td>\n",
       "      <td>Secondary / secondary special</td>\n",
       "      <td>Married</td>\n",
       "      <td>House / apartment</td>\n",
       "      <td>-21474</td>\n",
       "      <td>-1134</td>\n",
       "      <td>1</td>\n",
       "      <td>0</td>\n",
       "      <td>0</td>\n",
       "      <td>0</td>\n",
       "      <td>Security staff</td>\n",
       "      <td>2.0</td>\n",
       "    </tr>\n",
       "    <tr>\n",
       "      <th>3</th>\n",
       "      <td>5008808</td>\n",
       "      <td>F</td>\n",
       "      <td>N</td>\n",
       "      <td>Y</td>\n",
       "      <td>0</td>\n",
       "      <td>270000.0</td>\n",
       "      <td>Commercial associate</td>\n",
       "      <td>Secondary / secondary special</td>\n",
       "      <td>Single / not married</td>\n",
       "      <td>House / apartment</td>\n",
       "      <td>-19110</td>\n",
       "      <td>-3051</td>\n",
       "      <td>1</td>\n",
       "      <td>0</td>\n",
       "      <td>1</td>\n",
       "      <td>1</td>\n",
       "      <td>Sales staff</td>\n",
       "      <td>1.0</td>\n",
       "    </tr>\n",
       "    <tr>\n",
       "      <th>4</th>\n",
       "      <td>5008809</td>\n",
       "      <td>F</td>\n",
       "      <td>N</td>\n",
       "      <td>Y</td>\n",
       "      <td>0</td>\n",
       "      <td>270000.0</td>\n",
       "      <td>Commercial associate</td>\n",
       "      <td>Secondary / secondary special</td>\n",
       "      <td>Single / not married</td>\n",
       "      <td>House / apartment</td>\n",
       "      <td>-19110</td>\n",
       "      <td>-3051</td>\n",
       "      <td>1</td>\n",
       "      <td>0</td>\n",
       "      <td>1</td>\n",
       "      <td>1</td>\n",
       "      <td>Sales staff</td>\n",
       "      <td>1.0</td>\n",
       "    </tr>\n",
       "    <tr>\n",
       "      <th>5</th>\n",
       "      <td>5008810</td>\n",
       "      <td>F</td>\n",
       "      <td>N</td>\n",
       "      <td>Y</td>\n",
       "      <td>0</td>\n",
       "      <td>270000.0</td>\n",
       "      <td>Commercial associate</td>\n",
       "      <td>Secondary / secondary special</td>\n",
       "      <td>Single / not married</td>\n",
       "      <td>House / apartment</td>\n",
       "      <td>-19110</td>\n",
       "      <td>-3051</td>\n",
       "      <td>1</td>\n",
       "      <td>0</td>\n",
       "      <td>1</td>\n",
       "      <td>1</td>\n",
       "      <td>Sales staff</td>\n",
       "      <td>1.0</td>\n",
       "    </tr>\n",
       "    <tr>\n",
       "      <th>6</th>\n",
       "      <td>5008811</td>\n",
       "      <td>F</td>\n",
       "      <td>N</td>\n",
       "      <td>Y</td>\n",
       "      <td>0</td>\n",
       "      <td>270000.0</td>\n",
       "      <td>Commercial associate</td>\n",
       "      <td>Secondary / secondary special</td>\n",
       "      <td>Single / not married</td>\n",
       "      <td>House / apartment</td>\n",
       "      <td>-19110</td>\n",
       "      <td>-3051</td>\n",
       "      <td>1</td>\n",
       "      <td>0</td>\n",
       "      <td>1</td>\n",
       "      <td>1</td>\n",
       "      <td>Sales staff</td>\n",
       "      <td>1.0</td>\n",
       "    </tr>\n",
       "    <tr>\n",
       "      <th>7</th>\n",
       "      <td>5008812</td>\n",
       "      <td>F</td>\n",
       "      <td>N</td>\n",
       "      <td>Y</td>\n",
       "      <td>0</td>\n",
       "      <td>283500.0</td>\n",
       "      <td>Pensioner</td>\n",
       "      <td>Higher education</td>\n",
       "      <td>Separated</td>\n",
       "      <td>House / apartment</td>\n",
       "      <td>-22464</td>\n",
       "      <td>365243</td>\n",
       "      <td>1</td>\n",
       "      <td>0</td>\n",
       "      <td>0</td>\n",
       "      <td>0</td>\n",
       "      <td>NaN</td>\n",
       "      <td>1.0</td>\n",
       "    </tr>\n",
       "    <tr>\n",
       "      <th>8</th>\n",
       "      <td>5008813</td>\n",
       "      <td>F</td>\n",
       "      <td>N</td>\n",
       "      <td>Y</td>\n",
       "      <td>0</td>\n",
       "      <td>283500.0</td>\n",
       "      <td>Pensioner</td>\n",
       "      <td>Higher education</td>\n",
       "      <td>Separated</td>\n",
       "      <td>House / apartment</td>\n",
       "      <td>-22464</td>\n",
       "      <td>365243</td>\n",
       "      <td>1</td>\n",
       "      <td>0</td>\n",
       "      <td>0</td>\n",
       "      <td>0</td>\n",
       "      <td>NaN</td>\n",
       "      <td>1.0</td>\n",
       "    </tr>\n",
       "    <tr>\n",
       "      <th>9</th>\n",
       "      <td>5008814</td>\n",
       "      <td>F</td>\n",
       "      <td>N</td>\n",
       "      <td>Y</td>\n",
       "      <td>0</td>\n",
       "      <td>283500.0</td>\n",
       "      <td>Pensioner</td>\n",
       "      <td>Higher education</td>\n",
       "      <td>Separated</td>\n",
       "      <td>House / apartment</td>\n",
       "      <td>-22464</td>\n",
       "      <td>365243</td>\n",
       "      <td>1</td>\n",
       "      <td>0</td>\n",
       "      <td>0</td>\n",
       "      <td>0</td>\n",
       "      <td>NaN</td>\n",
       "      <td>1.0</td>\n",
       "    </tr>\n",
       "  </tbody>\n",
       "</table>\n",
       "</div>"
      ],
      "text/plain": [
       "        ID CODE_GENDER FLAG_OWN_CAR FLAG_OWN_REALTY  CNT_CHILDREN  \\\n",
       "0  5008804           M            Y               Y             0   \n",
       "1  5008805           M            Y               Y             0   \n",
       "2  5008806           M            Y               Y             0   \n",
       "3  5008808           F            N               Y             0   \n",
       "4  5008809           F            N               Y             0   \n",
       "5  5008810           F            N               Y             0   \n",
       "6  5008811           F            N               Y             0   \n",
       "7  5008812           F            N               Y             0   \n",
       "8  5008813           F            N               Y             0   \n",
       "9  5008814           F            N               Y             0   \n",
       "\n",
       "   AMT_INCOME_TOTAL      NAME_INCOME_TYPE            NAME_EDUCATION_TYPE  \\\n",
       "0          427500.0               Working               Higher education   \n",
       "1          427500.0               Working               Higher education   \n",
       "2          112500.0               Working  Secondary / secondary special   \n",
       "3          270000.0  Commercial associate  Secondary / secondary special   \n",
       "4          270000.0  Commercial associate  Secondary / secondary special   \n",
       "5          270000.0  Commercial associate  Secondary / secondary special   \n",
       "6          270000.0  Commercial associate  Secondary / secondary special   \n",
       "7          283500.0             Pensioner               Higher education   \n",
       "8          283500.0             Pensioner               Higher education   \n",
       "9          283500.0             Pensioner               Higher education   \n",
       "\n",
       "     NAME_FAMILY_STATUS  NAME_HOUSING_TYPE  DAYS_BIRTH  DAYS_EMPLOYED  \\\n",
       "0        Civil marriage   Rented apartment      -12005          -4542   \n",
       "1        Civil marriage   Rented apartment      -12005          -4542   \n",
       "2               Married  House / apartment      -21474          -1134   \n",
       "3  Single / not married  House / apartment      -19110          -3051   \n",
       "4  Single / not married  House / apartment      -19110          -3051   \n",
       "5  Single / not married  House / apartment      -19110          -3051   \n",
       "6  Single / not married  House / apartment      -19110          -3051   \n",
       "7             Separated  House / apartment      -22464         365243   \n",
       "8             Separated  House / apartment      -22464         365243   \n",
       "9             Separated  House / apartment      -22464         365243   \n",
       "\n",
       "   FLAG_MOBIL  FLAG_WORK_PHONE  FLAG_PHONE  FLAG_EMAIL OCCUPATION_TYPE  \\\n",
       "0           1                1           0           0             NaN   \n",
       "1           1                1           0           0             NaN   \n",
       "2           1                0           0           0  Security staff   \n",
       "3           1                0           1           1     Sales staff   \n",
       "4           1                0           1           1     Sales staff   \n",
       "5           1                0           1           1     Sales staff   \n",
       "6           1                0           1           1     Sales staff   \n",
       "7           1                0           0           0             NaN   \n",
       "8           1                0           0           0             NaN   \n",
       "9           1                0           0           0             NaN   \n",
       "\n",
       "   CNT_FAM_MEMBERS  \n",
       "0              2.0  \n",
       "1              2.0  \n",
       "2              2.0  \n",
       "3              1.0  \n",
       "4              1.0  \n",
       "5              1.0  \n",
       "6              1.0  \n",
       "7              1.0  \n",
       "8              1.0  \n",
       "9              1.0  "
      ]
     },
     "execution_count": 3,
     "metadata": {},
     "output_type": "execute_result"
    }
   ],
   "source": [
    "#Displaying application dataframe, first 10 rows\n",
    "df_app.head(10)"
   ]
  },
  {
   "cell_type": "code",
   "execution_count": 4,
   "id": "5c4ed044-105e-43f9-8898-35442e75e759",
   "metadata": {},
   "outputs": [],
   "source": [
    "#Exploratory Data Analysis"
   ]
  },
  {
   "cell_type": "code",
   "execution_count": 5,
   "id": "0007fa16-8faf-4e07-8bf8-18a831ee61f4",
   "metadata": {},
   "outputs": [
    {
     "data": {
      "text/plain": [
       "(438557, 18)"
      ]
     },
     "execution_count": 5,
     "metadata": {},
     "output_type": "execute_result"
    }
   ],
   "source": [
    "df_app.shape #438557 rows, 18 columns"
   ]
  },
  {
   "cell_type": "code",
   "execution_count": 6,
   "id": "4efa1575-9ddc-48fb-8138-e0c3074be4ef",
   "metadata": {},
   "outputs": [
    {
     "name": "stdout",
     "output_type": "stream",
     "text": [
      "<class 'pandas.core.frame.DataFrame'>\n",
      "RangeIndex: 438557 entries, 0 to 438556\n",
      "Data columns (total 18 columns):\n",
      " #   Column               Non-Null Count   Dtype  \n",
      "---  ------               --------------   -----  \n",
      " 0   ID                   438557 non-null  int64  \n",
      " 1   CODE_GENDER          438557 non-null  object \n",
      " 2   FLAG_OWN_CAR         438557 non-null  object \n",
      " 3   FLAG_OWN_REALTY      438557 non-null  object \n",
      " 4   CNT_CHILDREN         438557 non-null  int64  \n",
      " 5   AMT_INCOME_TOTAL     438557 non-null  float64\n",
      " 6   NAME_INCOME_TYPE     438557 non-null  object \n",
      " 7   NAME_EDUCATION_TYPE  438557 non-null  object \n",
      " 8   NAME_FAMILY_STATUS   438557 non-null  object \n",
      " 9   NAME_HOUSING_TYPE    438557 non-null  object \n",
      " 10  DAYS_BIRTH           438557 non-null  int64  \n",
      " 11  DAYS_EMPLOYED        438557 non-null  int64  \n",
      " 12  FLAG_MOBIL           438557 non-null  int64  \n",
      " 13  FLAG_WORK_PHONE      438557 non-null  int64  \n",
      " 14  FLAG_PHONE           438557 non-null  int64  \n",
      " 15  FLAG_EMAIL           438557 non-null  int64  \n",
      " 16  OCCUPATION_TYPE      304354 non-null  object \n",
      " 17  CNT_FAM_MEMBERS      438557 non-null  float64\n",
      "dtypes: float64(2), int64(8), object(8)\n",
      "memory usage: 60.2+ MB\n"
     ]
    }
   ],
   "source": [
    "df_app.info() #consists of objects, int, and floats"
   ]
  },
  {
   "cell_type": "code",
   "execution_count": 7,
   "id": "f7eea81b-3ce6-4f43-b67d-d847fb5fd250",
   "metadata": {},
   "outputs": [
    {
     "data": {
      "text/plain": [
       "ID                          0\n",
       "CODE_GENDER                 0\n",
       "FLAG_OWN_CAR                0\n",
       "FLAG_OWN_REALTY             0\n",
       "CNT_CHILDREN                0\n",
       "AMT_INCOME_TOTAL            0\n",
       "NAME_INCOME_TYPE            0\n",
       "NAME_EDUCATION_TYPE         0\n",
       "NAME_FAMILY_STATUS          0\n",
       "NAME_HOUSING_TYPE           0\n",
       "DAYS_BIRTH                  0\n",
       "DAYS_EMPLOYED               0\n",
       "FLAG_MOBIL                  0\n",
       "FLAG_WORK_PHONE             0\n",
       "FLAG_PHONE                  0\n",
       "FLAG_EMAIL                  0\n",
       "OCCUPATION_TYPE        134203\n",
       "CNT_FAM_MEMBERS             0\n",
       "dtype: int64"
      ]
     },
     "execution_count": 7,
     "metadata": {},
     "output_type": "execute_result"
    }
   ],
   "source": [
    "#check for missing data\n",
    "df_app.isnull().sum() #134203 rows of missing data "
   ]
  },
  {
   "cell_type": "code",
   "execution_count": 8,
   "id": "42bbc794-22cf-4bc9-93a2-7a279f9ddb81",
   "metadata": {},
   "outputs": [],
   "source": [
    "#dropping the columns with missing data because 134203/438557 total columns is around 30% of missing data\n",
    "#column also will not contribute much to the results of the data\n",
    "df_app.drop('OCCUPATION_TYPE', axis = 1, inplace = True)"
   ]
  },
  {
   "cell_type": "code",
   "execution_count": 9,
   "id": "84985cd6-c8df-45ca-8e45-c08d19cc88ac",
   "metadata": {},
   "outputs": [
    {
     "name": "stdout",
     "output_type": "stream",
     "text": [
      "<class 'pandas.core.frame.DataFrame'>\n",
      "RangeIndex: 438557 entries, 0 to 438556\n",
      "Data columns (total 17 columns):\n",
      " #   Column               Non-Null Count   Dtype  \n",
      "---  ------               --------------   -----  \n",
      " 0   ID                   438557 non-null  int64  \n",
      " 1   CODE_GENDER          438557 non-null  object \n",
      " 2   FLAG_OWN_CAR         438557 non-null  object \n",
      " 3   FLAG_OWN_REALTY      438557 non-null  object \n",
      " 4   CNT_CHILDREN         438557 non-null  int64  \n",
      " 5   AMT_INCOME_TOTAL     438557 non-null  float64\n",
      " 6   NAME_INCOME_TYPE     438557 non-null  object \n",
      " 7   NAME_EDUCATION_TYPE  438557 non-null  object \n",
      " 8   NAME_FAMILY_STATUS   438557 non-null  object \n",
      " 9   NAME_HOUSING_TYPE    438557 non-null  object \n",
      " 10  DAYS_BIRTH           438557 non-null  int64  \n",
      " 11  DAYS_EMPLOYED        438557 non-null  int64  \n",
      " 12  FLAG_MOBIL           438557 non-null  int64  \n",
      " 13  FLAG_WORK_PHONE      438557 non-null  int64  \n",
      " 14  FLAG_PHONE           438557 non-null  int64  \n",
      " 15  FLAG_EMAIL           438557 non-null  int64  \n",
      " 16  CNT_FAM_MEMBERS      438557 non-null  float64\n",
      "dtypes: float64(2), int64(8), object(7)\n",
      "memory usage: 56.9+ MB\n"
     ]
    }
   ],
   "source": [
    "#check if columns were dropped\n",
    "df_app.info() #columns were indeed dropped"
   ]
  },
  {
   "cell_type": "code",
   "execution_count": 10,
   "id": "47d60f9e-b78a-4082-a61b-6e742e218952",
   "metadata": {},
   "outputs": [
    {
     "data": {
      "text/plain": [
       "47"
      ]
     },
     "execution_count": 10,
     "metadata": {},
     "output_type": "execute_result"
    }
   ],
   "source": [
    "#Check for duplicate ID's in the application dataframe \n",
    "len(df_app['ID']) - len(df_app['ID'].unique()) #47 duplicate applciations "
   ]
  },
  {
   "cell_type": "code",
   "execution_count": 11,
   "id": "fb6ba1f3-273d-4772-a01c-2dc8c1bcc1be",
   "metadata": {},
   "outputs": [],
   "source": [
    "#Drop the duplicates \n",
    "df_app = df_app.drop_duplicates('ID', keep = 'last') #no more duplicate or missing data "
   ]
  },
  {
   "cell_type": "code",
   "execution_count": 12,
   "id": "46a5e6d9-1ed0-4254-bcc9-29bb5f1fcc09",
   "metadata": {},
   "outputs": [
    {
     "data": {
      "text/plain": [
       "(1048575, 3)"
      ]
     },
     "execution_count": 12,
     "metadata": {},
     "output_type": "execute_result"
    }
   ],
   "source": [
    "#Credit record shape\n",
    "df_credit.shape #1048575 rows, 3 columns"
   ]
  },
  {
   "cell_type": "code",
   "execution_count": 13,
   "id": "c84fb5ed-cd31-4d23-b286-ab3741ab628c",
   "metadata": {},
   "outputs": [
    {
     "name": "stdout",
     "output_type": "stream",
     "text": [
      "<class 'pandas.core.frame.DataFrame'>\n",
      "RangeIndex: 1048575 entries, 0 to 1048574\n",
      "Data columns (total 3 columns):\n",
      " #   Column          Non-Null Count    Dtype \n",
      "---  ------          --------------    ----- \n",
      " 0   ID              1048575 non-null  int64 \n",
      " 1   MONTHS_BALANCE  1048575 non-null  int64 \n",
      " 2   STATUS          1048575 non-null  object\n",
      "dtypes: int64(2), object(1)\n",
      "memory usage: 24.0+ MB\n"
     ]
    }
   ],
   "source": [
    "#info\n",
    "df_credit.info() #2 int, 1 object "
   ]
  },
  {
   "cell_type": "code",
   "execution_count": 14,
   "id": "a4b75149-9090-43bd-9649-dbbe4dbcb44e",
   "metadata": {},
   "outputs": [],
   "source": [
    "#Application Data Record categorical columns, numerical columns into a list\n",
    "cat = df_app.columns[(df_app.dtypes == 'object').values].tolist()\n",
    "num = df_app.columns[(df_app.dtypes != 'object').values].tolist()"
   ]
  },
  {
   "cell_type": "code",
   "execution_count": 15,
   "id": "e80fa626-a164-4c87-83d6-1ed159e77727",
   "metadata": {},
   "outputs": [
    {
     "name": "stdout",
     "output_type": "stream",
     "text": [
      "CODE_GENDER \n",
      "\n",
      "F    294412\n",
      "M    144098\n",
      "Name: CODE_GENDER, dtype: int64\n",
      "------------------------------------------------\n",
      "FLAG_OWN_CAR \n",
      "\n",
      "N    275428\n",
      "Y    163082\n",
      "Name: FLAG_OWN_CAR, dtype: int64\n",
      "------------------------------------------------\n",
      "FLAG_OWN_REALTY \n",
      "\n",
      "Y    304043\n",
      "N    134467\n",
      "Name: FLAG_OWN_REALTY, dtype: int64\n",
      "------------------------------------------------\n",
      "NAME_INCOME_TYPE \n",
      "\n",
      "Working                 226087\n",
      "Commercial associate    100739\n",
      "Pensioner                75483\n",
      "State servant            36184\n",
      "Student                     17\n",
      "Name: NAME_INCOME_TYPE, dtype: int64\n",
      "------------------------------------------------\n",
      "NAME_EDUCATION_TYPE \n",
      "\n",
      "Secondary / secondary special    301789\n",
      "Higher education                 117509\n",
      "Incomplete higher                 14849\n",
      "Lower secondary                    4051\n",
      "Academic degree                     312\n",
      "Name: NAME_EDUCATION_TYPE, dtype: int64\n",
      "------------------------------------------------\n",
      "NAME_FAMILY_STATUS \n",
      "\n",
      "Married                 299798\n",
      "Single / not married     55268\n",
      "Civil marriage           36524\n",
      "Separated                27249\n",
      "Widow                    19671\n",
      "Name: NAME_FAMILY_STATUS, dtype: int64\n",
      "------------------------------------------------\n",
      "NAME_HOUSING_TYPE \n",
      "\n",
      "House / apartment      393788\n",
      "With parents            19074\n",
      "Municipal apartment     14213\n",
      "Rented apartment         5974\n",
      "Office apartment         3922\n",
      "Co-op apartment          1539\n",
      "Name: NAME_HOUSING_TYPE, dtype: int64\n",
      "------------------------------------------------\n"
     ]
    }
   ],
   "source": [
    "#Displaying the unique values for the categorical column\n",
    "for i in df_app.columns[(df_app.dtypes == 'object').values].tolist():\n",
    "    print(i, '\\n')\n",
    "    print(df_app[i].value_counts())\n",
    "    print(\"------------------------------------------------\") "
   ]
  },
  {
   "cell_type": "code",
   "execution_count": 16,
   "id": "44128a78-7dd5-456a-9f42-a322fdc27143",
   "metadata": {},
   "outputs": [
    {
     "name": "stdout",
     "output_type": "stream",
     "text": [
      "ID \n",
      "\n",
      "6291456    1\n",
      "6430995    1\n",
      "5388560    1\n",
      "6471951    1\n",
      "6480139    1\n",
      "          ..\n",
      "6604339    1\n",
      "6608433    1\n",
      "6569516    1\n",
      "6690720    1\n",
      "6293503    1\n",
      "Name: ID, Length: 438510, dtype: int64\n",
      "------------------------------------------------\n",
      "CNT_CHILDREN \n",
      "\n",
      "0     304038\n",
      "1      88518\n",
      "2      39879\n",
      "3       5430\n",
      "4        486\n",
      "5        133\n",
      "7          9\n",
      "9          5\n",
      "6          4\n",
      "12         4\n",
      "14         3\n",
      "19         1\n",
      "Name: CNT_CHILDREN, dtype: int64\n",
      "------------------------------------------------\n",
      "AMT_INCOME_TOTAL \n",
      "\n",
      "135000.0    46870\n",
      "157500.0    39762\n",
      "180000.0    37910\n",
      "112500.0    36977\n",
      "225000.0    34128\n",
      "            ...  \n",
      "374998.5        1\n",
      "45346.5         1\n",
      "265950.0        1\n",
      "163260.0        1\n",
      "167692.5        1\n",
      "Name: AMT_INCOME_TOTAL, Length: 866, dtype: int64\n",
      "------------------------------------------------\n",
      "DAYS_BIRTH \n",
      "\n",
      "-11707    150\n",
      "-14178    121\n",
      "-14400    116\n",
      "-13482    112\n",
      "-13274    112\n",
      "         ... \n",
      "-24771      1\n",
      "-8535       1\n",
      "-9560       1\n",
      "-9304       1\n",
      "-8725       1\n",
      "Name: DAYS_BIRTH, Length: 16379, dtype: int64\n",
      "------------------------------------------------\n",
      "DAYS_EMPLOYED \n",
      "\n",
      " 365243    75319\n",
      "-218         262\n",
      "-1678        251\n",
      "-249         241\n",
      "-978         240\n",
      "           ...  \n",
      "-7661          1\n",
      "-8595          1\n",
      "-9994          1\n",
      "-6996          1\n",
      "-8444          1\n",
      "Name: DAYS_EMPLOYED, Length: 9406, dtype: int64\n",
      "------------------------------------------------\n",
      "FLAG_MOBIL \n",
      "\n",
      "1    438510\n",
      "Name: FLAG_MOBIL, dtype: int64\n",
      "------------------------------------------------\n",
      "FLAG_WORK_PHONE \n",
      "\n",
      "0    348118\n",
      "1     90392\n",
      "Name: FLAG_WORK_PHONE, dtype: int64\n",
      "------------------------------------------------\n",
      "FLAG_PHONE \n",
      "\n",
      "0    312323\n",
      "1    126187\n",
      "Name: FLAG_PHONE, dtype: int64\n",
      "------------------------------------------------\n",
      "FLAG_EMAIL \n",
      "\n",
      "0    391062\n",
      "1     47448\n",
      "Name: FLAG_EMAIL, dtype: int64\n",
      "------------------------------------------------\n",
      "CNT_FAM_MEMBERS \n",
      "\n",
      "2.0     233867\n",
      "1.0      84483\n",
      "3.0      77119\n",
      "4.0      37351\n",
      "5.0       5081\n",
      "6.0        459\n",
      "7.0        124\n",
      "9.0          9\n",
      "11.0         5\n",
      "8.0          4\n",
      "14.0         4\n",
      "15.0         3\n",
      "20.0         1\n",
      "Name: CNT_FAM_MEMBERS, dtype: int64\n",
      "------------------------------------------------\n"
     ]
    }
   ],
   "source": [
    "#Displaying numerical columns \n",
    "for i in df_app.columns[(df_app.dtypes != 'object').values].tolist():\n",
    "    print(i, '\\n')\n",
    "    print(df_app[i].value_counts())\n",
    "    print(\"------------------------------------------------\") "
   ]
  },
  {
   "cell_type": "code",
   "execution_count": 17,
   "id": "7bfc6462-f18f-4665-a4b6-034d9b25a04b",
   "metadata": {},
   "outputs": [],
   "source": [
    "#Scaling columns based on time\n",
    "#DAYS_EMPLOYED, DAYS_BIRTH\n"
   ]
  },
  {
   "cell_type": "code",
   "execution_count": 18,
   "id": "581ba2f8-aed4-4ef0-bc4d-e3b65ce95bef",
   "metadata": {},
   "outputs": [],
   "source": [
    "#Days birth contains negative values, convert to positive and into Years\n",
    "df_app['DAYS_BIRTH'] = round(df_app['DAYS_BIRTH'] / -365, 0)\n",
    "df_app.rename(columns = {'DAYS_BIRTH' : 'AGE'}, inplace = True)"
   ]
  },
  {
   "cell_type": "code",
   "execution_count": 19,
   "id": "a58d3f23-8507-42c7-97bd-3906332c7992",
   "metadata": {},
   "outputs": [],
   "source": [
    "\n",
    "#According to data, Negative means days since employed, positive means day unemployed\n",
    "#Convert unemployed data to 0 years employed\n",
    "unemployed = df_app[df_app['DAYS_EMPLOYED'] > 0]['DAYS_EMPLOYED'].unique()\n",
    "df_app['DAYS_EMPLOYED'].replace(unemployed, 0, inplace = True)"
   ]
  },
  {
   "cell_type": "code",
   "execution_count": 20,
   "id": "569eb1ae-9464-4d4a-8c8f-922445510336",
   "metadata": {},
   "outputs": [],
   "source": [
    "#Converting DAYS_EMPLOYED into years\n",
    "df_app['DAYS_EMPLOYED'] = abs(round(df_app['DAYS_EMPLOYED'] / -365, 0))"
   ]
  },
  {
   "cell_type": "code",
   "execution_count": 21,
   "id": "02893b3e-d55e-46ee-bf08-b2d861d4def9",
   "metadata": {},
   "outputs": [],
   "source": [
    "#Rename DAYS_EMPLOYED into years_employed\n",
    "df_app.rename(columns = {'DAYS_EMPLOYED' : 'YEARS_EMPLOYED'}, inplace = True)"
   ]
  },
  {
   "cell_type": "code",
   "execution_count": 22,
   "id": "2b17f8e2-5c7c-4b59-a7f1-2a8fb427cb98",
   "metadata": {},
   "outputs": [
    {
     "data": {
      "text/html": [
       "<div>\n",
       "<style scoped>\n",
       "    .dataframe tbody tr th:only-of-type {\n",
       "        vertical-align: middle;\n",
       "    }\n",
       "\n",
       "    .dataframe tbody tr th {\n",
       "        vertical-align: top;\n",
       "    }\n",
       "\n",
       "    .dataframe thead th {\n",
       "        text-align: right;\n",
       "    }\n",
       "</style>\n",
       "<table border=\"1\" class=\"dataframe\">\n",
       "  <thead>\n",
       "    <tr style=\"text-align: right;\">\n",
       "      <th></th>\n",
       "      <th>ID</th>\n",
       "      <th>CODE_GENDER</th>\n",
       "      <th>FLAG_OWN_CAR</th>\n",
       "      <th>FLAG_OWN_REALTY</th>\n",
       "      <th>CNT_CHILDREN</th>\n",
       "      <th>AMT_INCOME_TOTAL</th>\n",
       "      <th>NAME_INCOME_TYPE</th>\n",
       "      <th>NAME_EDUCATION_TYPE</th>\n",
       "      <th>NAME_FAMILY_STATUS</th>\n",
       "      <th>NAME_HOUSING_TYPE</th>\n",
       "      <th>AGE</th>\n",
       "      <th>YEARS_EMPLOYED</th>\n",
       "      <th>FLAG_MOBIL</th>\n",
       "      <th>FLAG_WORK_PHONE</th>\n",
       "      <th>FLAG_PHONE</th>\n",
       "      <th>FLAG_EMAIL</th>\n",
       "      <th>CNT_FAM_MEMBERS</th>\n",
       "    </tr>\n",
       "  </thead>\n",
       "  <tbody>\n",
       "    <tr>\n",
       "      <th>0</th>\n",
       "      <td>5008804</td>\n",
       "      <td>M</td>\n",
       "      <td>Y</td>\n",
       "      <td>Y</td>\n",
       "      <td>0</td>\n",
       "      <td>427500.0</td>\n",
       "      <td>Working</td>\n",
       "      <td>Higher education</td>\n",
       "      <td>Civil marriage</td>\n",
       "      <td>Rented apartment</td>\n",
       "      <td>33.0</td>\n",
       "      <td>12.0</td>\n",
       "      <td>1</td>\n",
       "      <td>1</td>\n",
       "      <td>0</td>\n",
       "      <td>0</td>\n",
       "      <td>2.0</td>\n",
       "    </tr>\n",
       "    <tr>\n",
       "      <th>1</th>\n",
       "      <td>5008805</td>\n",
       "      <td>M</td>\n",
       "      <td>Y</td>\n",
       "      <td>Y</td>\n",
       "      <td>0</td>\n",
       "      <td>427500.0</td>\n",
       "      <td>Working</td>\n",
       "      <td>Higher education</td>\n",
       "      <td>Civil marriage</td>\n",
       "      <td>Rented apartment</td>\n",
       "      <td>33.0</td>\n",
       "      <td>12.0</td>\n",
       "      <td>1</td>\n",
       "      <td>1</td>\n",
       "      <td>0</td>\n",
       "      <td>0</td>\n",
       "      <td>2.0</td>\n",
       "    </tr>\n",
       "    <tr>\n",
       "      <th>2</th>\n",
       "      <td>5008806</td>\n",
       "      <td>M</td>\n",
       "      <td>Y</td>\n",
       "      <td>Y</td>\n",
       "      <td>0</td>\n",
       "      <td>112500.0</td>\n",
       "      <td>Working</td>\n",
       "      <td>Secondary / secondary special</td>\n",
       "      <td>Married</td>\n",
       "      <td>House / apartment</td>\n",
       "      <td>59.0</td>\n",
       "      <td>3.0</td>\n",
       "      <td>1</td>\n",
       "      <td>0</td>\n",
       "      <td>0</td>\n",
       "      <td>0</td>\n",
       "      <td>2.0</td>\n",
       "    </tr>\n",
       "    <tr>\n",
       "      <th>3</th>\n",
       "      <td>5008808</td>\n",
       "      <td>F</td>\n",
       "      <td>N</td>\n",
       "      <td>Y</td>\n",
       "      <td>0</td>\n",
       "      <td>270000.0</td>\n",
       "      <td>Commercial associate</td>\n",
       "      <td>Secondary / secondary special</td>\n",
       "      <td>Single / not married</td>\n",
       "      <td>House / apartment</td>\n",
       "      <td>52.0</td>\n",
       "      <td>8.0</td>\n",
       "      <td>1</td>\n",
       "      <td>0</td>\n",
       "      <td>1</td>\n",
       "      <td>1</td>\n",
       "      <td>1.0</td>\n",
       "    </tr>\n",
       "    <tr>\n",
       "      <th>4</th>\n",
       "      <td>5008809</td>\n",
       "      <td>F</td>\n",
       "      <td>N</td>\n",
       "      <td>Y</td>\n",
       "      <td>0</td>\n",
       "      <td>270000.0</td>\n",
       "      <td>Commercial associate</td>\n",
       "      <td>Secondary / secondary special</td>\n",
       "      <td>Single / not married</td>\n",
       "      <td>House / apartment</td>\n",
       "      <td>52.0</td>\n",
       "      <td>8.0</td>\n",
       "      <td>1</td>\n",
       "      <td>0</td>\n",
       "      <td>1</td>\n",
       "      <td>1</td>\n",
       "      <td>1.0</td>\n",
       "    </tr>\n",
       "  </tbody>\n",
       "</table>\n",
       "</div>"
      ],
      "text/plain": [
       "        ID CODE_GENDER FLAG_OWN_CAR FLAG_OWN_REALTY  CNT_CHILDREN  \\\n",
       "0  5008804           M            Y               Y             0   \n",
       "1  5008805           M            Y               Y             0   \n",
       "2  5008806           M            Y               Y             0   \n",
       "3  5008808           F            N               Y             0   \n",
       "4  5008809           F            N               Y             0   \n",
       "\n",
       "   AMT_INCOME_TOTAL      NAME_INCOME_TYPE            NAME_EDUCATION_TYPE  \\\n",
       "0          427500.0               Working               Higher education   \n",
       "1          427500.0               Working               Higher education   \n",
       "2          112500.0               Working  Secondary / secondary special   \n",
       "3          270000.0  Commercial associate  Secondary / secondary special   \n",
       "4          270000.0  Commercial associate  Secondary / secondary special   \n",
       "\n",
       "     NAME_FAMILY_STATUS  NAME_HOUSING_TYPE   AGE  YEARS_EMPLOYED  FLAG_MOBIL  \\\n",
       "0        Civil marriage   Rented apartment  33.0            12.0           1   \n",
       "1        Civil marriage   Rented apartment  33.0            12.0           1   \n",
       "2               Married  House / apartment  59.0             3.0           1   \n",
       "3  Single / not married  House / apartment  52.0             8.0           1   \n",
       "4  Single / not married  House / apartment  52.0             8.0           1   \n",
       "\n",
       "   FLAG_WORK_PHONE  FLAG_PHONE  FLAG_EMAIL  CNT_FAM_MEMBERS  \n",
       "0                1           0           0              2.0  \n",
       "1                1           0           0              2.0  \n",
       "2                0           0           0              2.0  \n",
       "3                0           1           1              1.0  \n",
       "4                0           1           1              1.0  "
      ]
     },
     "execution_count": 22,
     "metadata": {},
     "output_type": "execute_result"
    }
   ],
   "source": [
    "df_app.head()"
   ]
  },
  {
   "cell_type": "code",
   "execution_count": 23,
   "id": "6e31bfb2-fc29-473b-8b64-45099a449e44",
   "metadata": {},
   "outputs": [],
   "source": [
    "#Rename columns for ease \n",
    "df_app.rename(columns = {'CODE_GENDER' : 'GENDER'}, inplace = True)\n",
    "df_app.rename(columns = {'FLAG_OWN_CAR' : 'CAR_OWNER'}, inplace = True)\n",
    "df_app.rename(columns = {'FLAG_OWN_REALTY' : 'PROPERTY_OWNER'}, inplace = True)\n",
    "df_app.rename(columns = {'AMT_INCOME_TOTAL' : 'INCOME'}, inplace = True)\n",
    "df_app.rename(columns = {'NAME_INCOME_TYPE' : 'INCOME_TYPE'}, inplace = True)\n",
    "df_app.rename(columns = {'NAME_EDUCATION_TYPE' : 'EDUCATION'}, inplace = True)\n",
    "df_app.rename(columns = {'NAME_FAMILY_STATUS' : 'FAMILY_STATUS'}, inplace = True)\n",
    "df_app.rename(columns = {'NAME_HOUSING_TYPE' : 'HOUSING'}, inplace = True)"
   ]
  },
  {
   "cell_type": "code",
   "execution_count": 24,
   "id": "28258dc6-20ea-4cf2-852a-60bfbcd5ba67",
   "metadata": {},
   "outputs": [],
   "source": [
    "#Drop useless columns\n",
    "#Drop FLAG_MOBIL only 1 unique value \n",
    "df_app.drop('FLAG_MOBIL', axis = 1, inplace = True)"
   ]
  },
  {
   "cell_type": "code",
   "execution_count": 25,
   "id": "d732d7d8-0fae-49e2-8697-aa577002e3fa",
   "metadata": {},
   "outputs": [],
   "source": [
    "#Drop FLAG_WORK_PHONE\n",
    "#having a work phone does not contribute to credit \n",
    "df_app.drop('FLAG_WORK_PHONE', axis = 1, inplace = True)\n"
   ]
  },
  {
   "cell_type": "code",
   "execution_count": 26,
   "id": "24063a30-b053-41d0-a965-45764e1ce679",
   "metadata": {},
   "outputs": [],
   "source": [
    "#Drop FLAG_EMAIL, does not contribute to credit\n",
    "df_app.drop('FLAG_EMAIL', axis = 1, inplace = True)"
   ]
  },
  {
   "cell_type": "code",
   "execution_count": 27,
   "id": "310a96a6-b1e6-407d-b3d8-2a092bdbfcf2",
   "metadata": {},
   "outputs": [],
   "source": [
    "#Drop FLAG_PHONE\n",
    "df_app.drop('FLAG_PHONE', axis = 1, inplace = True)"
   ]
  },
  {
   "cell_type": "code",
   "execution_count": 28,
   "id": "eb060055-c76d-48f1-9ceb-824923025024",
   "metadata": {},
   "outputs": [
    {
     "data": {
      "text/html": [
       "<div>\n",
       "<style scoped>\n",
       "    .dataframe tbody tr th:only-of-type {\n",
       "        vertical-align: middle;\n",
       "    }\n",
       "\n",
       "    .dataframe tbody tr th {\n",
       "        vertical-align: top;\n",
       "    }\n",
       "\n",
       "    .dataframe thead th {\n",
       "        text-align: right;\n",
       "    }\n",
       "</style>\n",
       "<table border=\"1\" class=\"dataframe\">\n",
       "  <thead>\n",
       "    <tr style=\"text-align: right;\">\n",
       "      <th></th>\n",
       "      <th>ID</th>\n",
       "      <th>GENDER</th>\n",
       "      <th>CAR_OWNER</th>\n",
       "      <th>PROPERTY_OWNER</th>\n",
       "      <th>CNT_CHILDREN</th>\n",
       "      <th>INCOME</th>\n",
       "      <th>INCOME_TYPE</th>\n",
       "      <th>EDUCATION</th>\n",
       "      <th>FAMILY_STATUS</th>\n",
       "      <th>HOUSING</th>\n",
       "      <th>AGE</th>\n",
       "      <th>YEARS_EMPLOYED</th>\n",
       "      <th>CNT_FAM_MEMBERS</th>\n",
       "    </tr>\n",
       "  </thead>\n",
       "  <tbody>\n",
       "    <tr>\n",
       "      <th>0</th>\n",
       "      <td>5008804</td>\n",
       "      <td>M</td>\n",
       "      <td>Y</td>\n",
       "      <td>Y</td>\n",
       "      <td>0</td>\n",
       "      <td>427500.0</td>\n",
       "      <td>Working</td>\n",
       "      <td>Higher education</td>\n",
       "      <td>Civil marriage</td>\n",
       "      <td>Rented apartment</td>\n",
       "      <td>33.0</td>\n",
       "      <td>12.0</td>\n",
       "      <td>2.0</td>\n",
       "    </tr>\n",
       "    <tr>\n",
       "      <th>1</th>\n",
       "      <td>5008805</td>\n",
       "      <td>M</td>\n",
       "      <td>Y</td>\n",
       "      <td>Y</td>\n",
       "      <td>0</td>\n",
       "      <td>427500.0</td>\n",
       "      <td>Working</td>\n",
       "      <td>Higher education</td>\n",
       "      <td>Civil marriage</td>\n",
       "      <td>Rented apartment</td>\n",
       "      <td>33.0</td>\n",
       "      <td>12.0</td>\n",
       "      <td>2.0</td>\n",
       "    </tr>\n",
       "    <tr>\n",
       "      <th>2</th>\n",
       "      <td>5008806</td>\n",
       "      <td>M</td>\n",
       "      <td>Y</td>\n",
       "      <td>Y</td>\n",
       "      <td>0</td>\n",
       "      <td>112500.0</td>\n",
       "      <td>Working</td>\n",
       "      <td>Secondary / secondary special</td>\n",
       "      <td>Married</td>\n",
       "      <td>House / apartment</td>\n",
       "      <td>59.0</td>\n",
       "      <td>3.0</td>\n",
       "      <td>2.0</td>\n",
       "    </tr>\n",
       "    <tr>\n",
       "      <th>3</th>\n",
       "      <td>5008808</td>\n",
       "      <td>F</td>\n",
       "      <td>N</td>\n",
       "      <td>Y</td>\n",
       "      <td>0</td>\n",
       "      <td>270000.0</td>\n",
       "      <td>Commercial associate</td>\n",
       "      <td>Secondary / secondary special</td>\n",
       "      <td>Single / not married</td>\n",
       "      <td>House / apartment</td>\n",
       "      <td>52.0</td>\n",
       "      <td>8.0</td>\n",
       "      <td>1.0</td>\n",
       "    </tr>\n",
       "    <tr>\n",
       "      <th>4</th>\n",
       "      <td>5008809</td>\n",
       "      <td>F</td>\n",
       "      <td>N</td>\n",
       "      <td>Y</td>\n",
       "      <td>0</td>\n",
       "      <td>270000.0</td>\n",
       "      <td>Commercial associate</td>\n",
       "      <td>Secondary / secondary special</td>\n",
       "      <td>Single / not married</td>\n",
       "      <td>House / apartment</td>\n",
       "      <td>52.0</td>\n",
       "      <td>8.0</td>\n",
       "      <td>1.0</td>\n",
       "    </tr>\n",
       "  </tbody>\n",
       "</table>\n",
       "</div>"
      ],
      "text/plain": [
       "        ID GENDER CAR_OWNER PROPERTY_OWNER  CNT_CHILDREN    INCOME  \\\n",
       "0  5008804      M         Y              Y             0  427500.0   \n",
       "1  5008805      M         Y              Y             0  427500.0   \n",
       "2  5008806      M         Y              Y             0  112500.0   \n",
       "3  5008808      F         N              Y             0  270000.0   \n",
       "4  5008809      F         N              Y             0  270000.0   \n",
       "\n",
       "            INCOME_TYPE                      EDUCATION         FAMILY_STATUS  \\\n",
       "0               Working               Higher education        Civil marriage   \n",
       "1               Working               Higher education        Civil marriage   \n",
       "2               Working  Secondary / secondary special               Married   \n",
       "3  Commercial associate  Secondary / secondary special  Single / not married   \n",
       "4  Commercial associate  Secondary / secondary special  Single / not married   \n",
       "\n",
       "             HOUSING   AGE  YEARS_EMPLOYED  CNT_FAM_MEMBERS  \n",
       "0   Rented apartment  33.0            12.0              2.0  \n",
       "1   Rented apartment  33.0            12.0              2.0  \n",
       "2  House / apartment  59.0             3.0              2.0  \n",
       "3  House / apartment  52.0             8.0              1.0  \n",
       "4  House / apartment  52.0             8.0              1.0  "
      ]
     },
     "execution_count": 28,
     "metadata": {},
     "output_type": "execute_result"
    }
   ],
   "source": [
    "df_app.head()"
   ]
  },
  {
   "cell_type": "code",
   "execution_count": 29,
   "id": "fb1d7a68-4192-46b7-9fc2-eb0af284489b",
   "metadata": {},
   "outputs": [],
   "source": [
    "#encoding cat columns \n",
    "df_app['GENDER'].replace('M', 0, inplace = True)\n",
    "df_app['GENDER'].replace('F', 1, inplace = True)\n",
    "df_app['CAR_OWNER'].replace('Y', 0, inplace = True)\n",
    "df_app['CAR_OWNER'].replace('N', 1, inplace = True)\n",
    "df_app['PROPERTY_OWNER'].replace('Y', 0, inplace = True)\n",
    "df_app['PROPERTY_OWNER'].replace('N', 1, inplace = True)"
   ]
  },
  {
   "cell_type": "code",
   "execution_count": 30,
   "id": "b52e3f29-d3a4-4cf9-b9ce-eaf1169a8712",
   "metadata": {},
   "outputs": [
    {
     "data": {
      "text/plain": [
       "Working                 226087\n",
       "Commercial associate    100739\n",
       "Pensioner                75483\n",
       "State servant            36184\n",
       "Student                     17\n",
       "Name: INCOME_TYPE, dtype: int64"
      ]
     },
     "execution_count": 30,
     "metadata": {},
     "output_type": "execute_result"
    }
   ],
   "source": [
    "df_app['INCOME_TYPE'].value_counts()"
   ]
  },
  {
   "cell_type": "code",
   "execution_count": 31,
   "id": "8d1b4783-a25e-4312-b159-3c29f5bb1122",
   "metadata": {},
   "outputs": [],
   "source": [
    "#encoding continued\n",
    "df_app['INCOME_TYPE'].replace('Working', 0, inplace = True)\n",
    "df_app['INCOME_TYPE'].replace('Commercial associate', 1, inplace = True)\n",
    "df_app['INCOME_TYPE'].replace('Pensioner', 2, inplace = True)\n",
    "df_app['INCOME_TYPE'].replace('State servant', 3, inplace = True)\n",
    "df_app['INCOME_TYPE'].replace('Student', 4, inplace = True)"
   ]
  },
  {
   "cell_type": "code",
   "execution_count": 32,
   "id": "bfc4e669-9407-4581-a838-a9a103b4a00d",
   "metadata": {},
   "outputs": [
    {
     "data": {
      "text/plain": [
       "Secondary / secondary special    301789\n",
       "Higher education                 117509\n",
       "Incomplete higher                 14849\n",
       "Lower secondary                    4051\n",
       "Academic degree                     312\n",
       "Name: EDUCATION, dtype: int64"
      ]
     },
     "execution_count": 32,
     "metadata": {},
     "output_type": "execute_result"
    }
   ],
   "source": [
    "df_app['EDUCATION'].value_counts()"
   ]
  },
  {
   "cell_type": "code",
   "execution_count": 33,
   "id": "758151c0-621c-41a0-ab8f-b628e06e77cd",
   "metadata": {},
   "outputs": [],
   "source": [
    "#encoding education\n",
    "df_app['EDUCATION'].replace(\"Secondary / secondary special\", 0, inplace = True)\n",
    "df_app['EDUCATION'].replace(\"Higher education\", 1, inplace = True)\n",
    "df_app['EDUCATION'].replace(\"Incomplete higher\", 2, inplace = True)\n",
    "df_app['EDUCATION'].replace(\"Lower secondary\", 3, inplace = True)\n",
    "df_app['EDUCATION'].replace(\"Academic degree\", 4, inplace = True)"
   ]
  },
  {
   "cell_type": "code",
   "execution_count": 34,
   "id": "527dcd3e-0977-40f8-bb2d-e02fa54d1534",
   "metadata": {},
   "outputs": [
    {
     "data": {
      "text/plain": [
       "Married                 299798\n",
       "Single / not married     55268\n",
       "Civil marriage           36524\n",
       "Separated                27249\n",
       "Widow                    19671\n",
       "Name: FAMILY_STATUS, dtype: int64"
      ]
     },
     "execution_count": 34,
     "metadata": {},
     "output_type": "execute_result"
    }
   ],
   "source": [
    "df_app['FAMILY_STATUS'].value_counts()"
   ]
  },
  {
   "cell_type": "code",
   "execution_count": 35,
   "id": "4633bcf0-ae14-47b9-ad8a-b173dac29f31",
   "metadata": {},
   "outputs": [],
   "source": [
    "#encoding family status\n",
    "df_app['FAMILY_STATUS'].replace(\"Married\", 0, inplace = True)\n",
    "df_app['FAMILY_STATUS'].replace(\"Single / not married\", 1, inplace = True)\n",
    "df_app['FAMILY_STATUS'].replace(\"Civil marriage\", 2, inplace = True)\n",
    "df_app['FAMILY_STATUS'].replace(\"Separated\", 3, inplace = True)\n",
    "df_app['FAMILY_STATUS'].replace(\"Widow\", 4, inplace = True)"
   ]
  },
  {
   "cell_type": "code",
   "execution_count": 36,
   "id": "d3908fd5-1c9a-4e14-abe7-b6b3ea28b3cc",
   "metadata": {},
   "outputs": [
    {
     "data": {
      "text/plain": [
       "House / apartment      393788\n",
       "With parents            19074\n",
       "Municipal apartment     14213\n",
       "Rented apartment         5974\n",
       "Office apartment         3922\n",
       "Co-op apartment          1539\n",
       "Name: HOUSING, dtype: int64"
      ]
     },
     "execution_count": 36,
     "metadata": {},
     "output_type": "execute_result"
    }
   ],
   "source": [
    "df_app['HOUSING'].value_counts()"
   ]
  },
  {
   "cell_type": "code",
   "execution_count": 37,
   "id": "ada2a7bf-053c-4ab2-b329-3f164d147583",
   "metadata": {},
   "outputs": [],
   "source": [
    "#encoding housing \n",
    "df_app['HOUSING'].replace(\"House / apartment\", 0, inplace = True)\n",
    "df_app['HOUSING'].replace(\"With parents\", 1, inplace = True)\n",
    "df_app['HOUSING'].replace(\"Municipal apartment\", 2, inplace = True)\n",
    "df_app['HOUSING'].replace(\"Rented apartment\", 3, inplace = True)\n",
    "df_app['HOUSING'].replace(\"Office apartment\", 4, inplace = True)\n",
    "df_app['HOUSING'].replace(\"Co-op apartment\", 5, inplace = True)"
   ]
  },
  {
   "cell_type": "code",
   "execution_count": 38,
   "id": "20d343da-1aab-4557-88e9-0c39af051522",
   "metadata": {},
   "outputs": [
    {
     "data": {
      "text/html": [
       "<div>\n",
       "<style scoped>\n",
       "    .dataframe tbody tr th:only-of-type {\n",
       "        vertical-align: middle;\n",
       "    }\n",
       "\n",
       "    .dataframe tbody tr th {\n",
       "        vertical-align: top;\n",
       "    }\n",
       "\n",
       "    .dataframe thead th {\n",
       "        text-align: right;\n",
       "    }\n",
       "</style>\n",
       "<table border=\"1\" class=\"dataframe\">\n",
       "  <thead>\n",
       "    <tr style=\"text-align: right;\">\n",
       "      <th></th>\n",
       "      <th>ID</th>\n",
       "      <th>GENDER</th>\n",
       "      <th>CAR_OWNER</th>\n",
       "      <th>PROPERTY_OWNER</th>\n",
       "      <th>CNT_CHILDREN</th>\n",
       "      <th>INCOME</th>\n",
       "      <th>INCOME_TYPE</th>\n",
       "      <th>EDUCATION</th>\n",
       "      <th>FAMILY_STATUS</th>\n",
       "      <th>HOUSING</th>\n",
       "      <th>AGE</th>\n",
       "      <th>YEARS_EMPLOYED</th>\n",
       "      <th>CNT_FAM_MEMBERS</th>\n",
       "    </tr>\n",
       "  </thead>\n",
       "  <tbody>\n",
       "    <tr>\n",
       "      <th>0</th>\n",
       "      <td>5008804</td>\n",
       "      <td>0</td>\n",
       "      <td>0</td>\n",
       "      <td>0</td>\n",
       "      <td>0</td>\n",
       "      <td>427500.0</td>\n",
       "      <td>0</td>\n",
       "      <td>1</td>\n",
       "      <td>2</td>\n",
       "      <td>3</td>\n",
       "      <td>33.0</td>\n",
       "      <td>12.0</td>\n",
       "      <td>2.0</td>\n",
       "    </tr>\n",
       "    <tr>\n",
       "      <th>1</th>\n",
       "      <td>5008805</td>\n",
       "      <td>0</td>\n",
       "      <td>0</td>\n",
       "      <td>0</td>\n",
       "      <td>0</td>\n",
       "      <td>427500.0</td>\n",
       "      <td>0</td>\n",
       "      <td>1</td>\n",
       "      <td>2</td>\n",
       "      <td>3</td>\n",
       "      <td>33.0</td>\n",
       "      <td>12.0</td>\n",
       "      <td>2.0</td>\n",
       "    </tr>\n",
       "    <tr>\n",
       "      <th>2</th>\n",
       "      <td>5008806</td>\n",
       "      <td>0</td>\n",
       "      <td>0</td>\n",
       "      <td>0</td>\n",
       "      <td>0</td>\n",
       "      <td>112500.0</td>\n",
       "      <td>0</td>\n",
       "      <td>0</td>\n",
       "      <td>0</td>\n",
       "      <td>0</td>\n",
       "      <td>59.0</td>\n",
       "      <td>3.0</td>\n",
       "      <td>2.0</td>\n",
       "    </tr>\n",
       "    <tr>\n",
       "      <th>3</th>\n",
       "      <td>5008808</td>\n",
       "      <td>1</td>\n",
       "      <td>1</td>\n",
       "      <td>0</td>\n",
       "      <td>0</td>\n",
       "      <td>270000.0</td>\n",
       "      <td>1</td>\n",
       "      <td>0</td>\n",
       "      <td>1</td>\n",
       "      <td>0</td>\n",
       "      <td>52.0</td>\n",
       "      <td>8.0</td>\n",
       "      <td>1.0</td>\n",
       "    </tr>\n",
       "    <tr>\n",
       "      <th>4</th>\n",
       "      <td>5008809</td>\n",
       "      <td>1</td>\n",
       "      <td>1</td>\n",
       "      <td>0</td>\n",
       "      <td>0</td>\n",
       "      <td>270000.0</td>\n",
       "      <td>1</td>\n",
       "      <td>0</td>\n",
       "      <td>1</td>\n",
       "      <td>0</td>\n",
       "      <td>52.0</td>\n",
       "      <td>8.0</td>\n",
       "      <td>1.0</td>\n",
       "    </tr>\n",
       "  </tbody>\n",
       "</table>\n",
       "</div>"
      ],
      "text/plain": [
       "        ID  GENDER  CAR_OWNER  PROPERTY_OWNER  CNT_CHILDREN    INCOME  \\\n",
       "0  5008804       0          0               0             0  427500.0   \n",
       "1  5008805       0          0               0             0  427500.0   \n",
       "2  5008806       0          0               0             0  112500.0   \n",
       "3  5008808       1          1               0             0  270000.0   \n",
       "4  5008809       1          1               0             0  270000.0   \n",
       "\n",
       "   INCOME_TYPE  EDUCATION  FAMILY_STATUS  HOUSING   AGE  YEARS_EMPLOYED  \\\n",
       "0            0          1              2        3  33.0            12.0   \n",
       "1            0          1              2        3  33.0            12.0   \n",
       "2            0          0              0        0  59.0             3.0   \n",
       "3            1          0              1        0  52.0             8.0   \n",
       "4            1          0              1        0  52.0             8.0   \n",
       "\n",
       "   CNT_FAM_MEMBERS  \n",
       "0              2.0  \n",
       "1              2.0  \n",
       "2              2.0  \n",
       "3              1.0  \n",
       "4              1.0  "
      ]
     },
     "execution_count": 38,
     "metadata": {},
     "output_type": "execute_result"
    }
   ],
   "source": [
    "df_app.head()"
   ]
  },
  {
   "cell_type": "code",
   "execution_count": 39,
   "id": "c8d50309-0257-4e18-9469-da443ad9ad34",
   "metadata": {},
   "outputs": [],
   "source": [
    "#Visualization, checking for outliers with boxplots for numerical columns "
   ]
  },
  {
   "cell_type": "code",
   "execution_count": 40,
   "id": "ef8f2126-1259-4b04-b28d-23fea3d6e387",
   "metadata": {},
   "outputs": [
    {
     "name": "stderr",
     "output_type": "stream",
     "text": [
      "/Users/calebsiow/opt/anaconda3/lib/python3.8/site-packages/seaborn/_decorators.py:36: FutureWarning: Pass the following variable as a keyword arg: x. From version 0.12, the only valid positional argument will be `data`, and passing other arguments without an explicit keyword will result in an error or misinterpretation.\n",
      "  warnings.warn(\n"
     ]
    },
    {
     "data": {
      "text/plain": [
       "<AxesSubplot:xlabel='CNT_CHILDREN'>"
      ]
     },
     "execution_count": 40,
     "metadata": {},
     "output_type": "execute_result"
    },
    {
     "data": {
      "image/png": "[encoded data removed]",
      "text/plain": [
       "<Figure size 432x288 with 1 Axes>"
      ]
     },
     "metadata": {
      "needs_background": "light"
     },
     "output_type": "display_data"
    }
   ],
   "source": [
    "#CNT_CHILDREN\n",
    "sns.boxplot(df_app['CNT_CHILDREN'])"
   ]
  },
  {
   "cell_type": "code",
   "execution_count": 41,
   "id": "e8ccf180-260f-4efe-b804-265b65d9e448",
   "metadata": {},
   "outputs": [
    {
     "name": "stdout",
     "output_type": "stream",
     "text": [
      "high_bound : 4.0\n",
      "low_bound : 0.0\n"
     ]
    }
   ],
   "source": [
    "#Removing Outliers from CNT_CHILDREN\n",
    "high_bound = df_app['CNT_CHILDREN'].quantile(0.999)\n",
    "print('high_bound :', high_bound)\n",
    "low_bound = df_app['CNT_CHILDREN'].quantile(0.001)\n",
    "print('low_bound :', low_bound)"
   ]
  },
  {
   "cell_type": "code",
   "execution_count": 42,
   "id": "d1f6cbae-e2fe-4b5a-b555-bd1fa442b34a",
   "metadata": {},
   "outputs": [],
   "source": [
    "#restricting CNT_CHILDREN\n",
    "df_app = df_app[(df_app['CNT_CHILDREN'] >= low_bound) & (df_app['CNT_CHILDREN'] <= high_bound)]"
   ]
  },
  {
   "cell_type": "code",
   "execution_count": 43,
   "id": "82ef1154-2f52-404e-97fb-92a86ca605eb",
   "metadata": {},
   "outputs": [
    {
     "name": "stderr",
     "output_type": "stream",
     "text": [
      "/Users/calebsiow/opt/anaconda3/lib/python3.8/site-packages/seaborn/_decorators.py:36: FutureWarning: Pass the following variable as a keyword arg: x. From version 0.12, the only valid positional argument will be `data`, and passing other arguments without an explicit keyword will result in an error or misinterpretation.\n",
      "  warnings.warn(\n"
     ]
    },
    {
     "data": {
      "text/plain": [
       "<AxesSubplot:xlabel='INCOME'>"
      ]
     },
     "execution_count": 43,
     "metadata": {},
     "output_type": "execute_result"
    },
    {
     "data": {
      "image/png": "[encoded data removed]",
      "text/plain": [
       "<Figure size 432x288 with 1 Axes>"
      ]
     },
     "metadata": {
      "needs_background": "light"
     },
     "output_type": "display_data"
    }
   ],
   "source": [
    "#boxplot for income\n",
    "sns.boxplot(df_app['INCOME'])"
   ]
  },
  {
   "cell_type": "code",
   "execution_count": 44,
   "id": "a5837821-aa90-43b0-877e-31b97253ad17",
   "metadata": {},
   "outputs": [
    {
     "name": "stdout",
     "output_type": "stream",
     "text": [
      "high_bound : 990000.0\n",
      "low_bound : 36000.0\n"
     ]
    }
   ],
   "source": [
    "#Removing Outliers from income\n",
    "high_bound = df_app['INCOME'].quantile(0.999)\n",
    "print('high_bound :', high_bound)\n",
    "low_bound = df_app['INCOME'].quantile(0.001)\n",
    "print('low_bound :', low_bound)"
   ]
  },
  {
   "cell_type": "code",
   "execution_count": 45,
   "id": "95e1351b-5d89-47ad-814f-0987fcbbd300",
   "metadata": {},
   "outputs": [],
   "source": [
    "df_app = df_app[(df_app['INCOME'] >= low_bound) & (df_app['INCOME'] <= high_bound)]"
   ]
  },
  {
   "cell_type": "code",
   "execution_count": 46,
   "id": "9a61b700-11a8-4d17-9f19-9f5559355f32",
   "metadata": {},
   "outputs": [
    {
     "name": "stderr",
     "output_type": "stream",
     "text": [
      "/Users/calebsiow/opt/anaconda3/lib/python3.8/site-packages/seaborn/_decorators.py:36: FutureWarning: Pass the following variable as a keyword arg: x. From version 0.12, the only valid positional argument will be `data`, and passing other arguments without an explicit keyword will result in an error or misinterpretation.\n",
      "  warnings.warn(\n"
     ]
    },
    {
     "data": {
      "text/plain": [
       "<AxesSubplot:xlabel='AGE'>"
      ]
     },
     "execution_count": 46,
     "metadata": {},
     "output_type": "execute_result"
    },
    {
     "data": {
      "image/png": "[encoded data removed]",
      "text/plain": [
       "<Figure size 432x288 with 1 Axes>"
      ]
     },
     "metadata": {
      "needs_background": "light"
     },
     "output_type": "display_data"
    }
   ],
   "source": [
    "#boxplot for age\n",
    "sns.boxplot(df_app['AGE']) #no outliers"
   ]
  },
  {
   "cell_type": "code",
   "execution_count": 47,
   "id": "0f5c60b1-0018-485f-8162-50a9e70422e7",
   "metadata": {},
   "outputs": [
    {
     "name": "stderr",
     "output_type": "stream",
     "text": [
      "/Users/calebsiow/opt/anaconda3/lib/python3.8/site-packages/seaborn/_decorators.py:36: FutureWarning: Pass the following variable as a keyword arg: x. From version 0.12, the only valid positional argument will be `data`, and passing other arguments without an explicit keyword will result in an error or misinterpretation.\n",
      "  warnings.warn(\n"
     ]
    },
    {
     "data": {
      "text/plain": [
       "<AxesSubplot:xlabel='YEARS_EMPLOYED'>"
      ]
     },
     "execution_count": 47,
     "metadata": {},
     "output_type": "execute_result"
    },
    {
     "data": {
      "image/png": "[encoded data removed]",
      "text/plain": [
       "<Figure size 432x288 with 1 Axes>"
      ]
     },
     "metadata": {
      "needs_background": "light"
     },
     "output_type": "display_data"
    }
   ],
   "source": [
    "#boxplot for YEARS_EMPLOYED\n",
    "sns.boxplot(df_app['YEARS_EMPLOYED'])"
   ]
  },
  {
   "cell_type": "code",
   "execution_count": 48,
   "id": "0f767e4f-67a7-4d27-99b6-a95dd2e56412",
   "metadata": {},
   "outputs": [
    {
     "name": "stdout",
     "output_type": "stream",
     "text": [
      "high_bound : 40.0\n",
      "low_bound : 0.0\n"
     ]
    }
   ],
   "source": [
    "#removing outliers from YEARS_EMPLOYED\n",
    "high_bound = df_app['YEARS_EMPLOYED'].quantile(0.999)\n",
    "print('high_bound :', high_bound)\n",
    "low_bound = df_app['YEARS_EMPLOYED'].quantile(0.001)\n",
    "print('low_bound :', low_bound)\n"
   ]
  },
  {
   "cell_type": "code",
   "execution_count": 49,
   "id": "cefc7490-8b34-4a68-b4a0-81bd3540a7ef",
   "metadata": {},
   "outputs": [],
   "source": [
    "df_app = df_app[(df_app['YEARS_EMPLOYED'] >= low_bound) & (df_app['YEARS_EMPLOYED'] <= high_bound)]"
   ]
  },
  {
   "cell_type": "code",
   "execution_count": 50,
   "id": "c8fe77da-ca86-48f4-899f-e3403830886f",
   "metadata": {},
   "outputs": [
    {
     "name": "stderr",
     "output_type": "stream",
     "text": [
      "/Users/calebsiow/opt/anaconda3/lib/python3.8/site-packages/seaborn/_decorators.py:36: FutureWarning: Pass the following variable as a keyword arg: x. From version 0.12, the only valid positional argument will be `data`, and passing other arguments without an explicit keyword will result in an error or misinterpretation.\n",
      "  warnings.warn(\n"
     ]
    },
    {
     "data": {
      "text/plain": [
       "<AxesSubplot:xlabel='CNT_FAM_MEMBERS'>"
      ]
     },
     "execution_count": 50,
     "metadata": {},
     "output_type": "execute_result"
    },
    {
     "data": {
      "image/png": "[encoded data removed]",
      "text/plain": [
       "<Figure size 432x288 with 1 Axes>"
      ]
     },
     "metadata": {
      "needs_background": "light"
     },
     "output_type": "display_data"
    }
   ],
   "source": [
    "#boxplot for CNT_FAMILY_MEMBERS\n",
    "sns.boxplot(df_app['CNT_FAM_MEMBERS'])"
   ]
  },
  {
   "cell_type": "code",
   "execution_count": 51,
   "id": "dfd9b78c-8592-4aab-9ea1-1fb364e0e40b",
   "metadata": {},
   "outputs": [
    {
     "name": "stdout",
     "output_type": "stream",
     "text": [
      "high_bound : 6.0\n",
      "low_bound : 1.0\n"
     ]
    }
   ],
   "source": [
    "#removing outliers from CNT_FAM MEMBERs\n",
    "high_bound = df_app['CNT_FAM_MEMBERS'].quantile(0.999)\n",
    "print('high_bound :', high_bound)\n",
    "low_bound = df_app['CNT_FAM_MEMBERS'].quantile(0.001)\n",
    "print('low_bound :', low_bound)"
   ]
  },
  {
   "cell_type": "code",
   "execution_count": 52,
   "id": "008c18b8-3e67-476c-9abc-fece7fdd195f",
   "metadata": {},
   "outputs": [],
   "source": [
    "df_app = df_app[(df_app['CNT_FAM_MEMBERS'] >= low_bound) & (df_app['CNT_FAM_MEMBERS'] <= high_bound)]"
   ]
  },
  {
   "cell_type": "code",
   "execution_count": 53,
   "id": "d12fadbb-37d4-4596-a9db-98dd11c106b8",
   "metadata": {},
   "outputs": [
    {
     "data": {
      "text/html": [
       "<div>\n",
       "<style scoped>\n",
       "    .dataframe tbody tr th:only-of-type {\n",
       "        vertical-align: middle;\n",
       "    }\n",
       "\n",
       "    .dataframe tbody tr th {\n",
       "        vertical-align: top;\n",
       "    }\n",
       "\n",
       "    .dataframe thead th {\n",
       "        text-align: right;\n",
       "    }\n",
       "</style>\n",
       "<table border=\"1\" class=\"dataframe\">\n",
       "  <thead>\n",
       "    <tr style=\"text-align: right;\">\n",
       "      <th></th>\n",
       "      <th>ID</th>\n",
       "      <th>GENDER</th>\n",
       "      <th>CAR_OWNER</th>\n",
       "      <th>PROPERTY_OWNER</th>\n",
       "      <th>CNT_CHILDREN</th>\n",
       "      <th>INCOME</th>\n",
       "      <th>INCOME_TYPE</th>\n",
       "      <th>EDUCATION</th>\n",
       "      <th>FAMILY_STATUS</th>\n",
       "      <th>HOUSING</th>\n",
       "      <th>AGE</th>\n",
       "      <th>YEARS_EMPLOYED</th>\n",
       "      <th>CNT_FAM_MEMBERS</th>\n",
       "    </tr>\n",
       "  </thead>\n",
       "  <tbody>\n",
       "    <tr>\n",
       "      <th>0</th>\n",
       "      <td>5008804</td>\n",
       "      <td>0</td>\n",
       "      <td>0</td>\n",
       "      <td>0</td>\n",
       "      <td>0</td>\n",
       "      <td>427500.0</td>\n",
       "      <td>0</td>\n",
       "      <td>1</td>\n",
       "      <td>2</td>\n",
       "      <td>3</td>\n",
       "      <td>33.0</td>\n",
       "      <td>12.0</td>\n",
       "      <td>2.0</td>\n",
       "    </tr>\n",
       "    <tr>\n",
       "      <th>1</th>\n",
       "      <td>5008805</td>\n",
       "      <td>0</td>\n",
       "      <td>0</td>\n",
       "      <td>0</td>\n",
       "      <td>0</td>\n",
       "      <td>427500.0</td>\n",
       "      <td>0</td>\n",
       "      <td>1</td>\n",
       "      <td>2</td>\n",
       "      <td>3</td>\n",
       "      <td>33.0</td>\n",
       "      <td>12.0</td>\n",
       "      <td>2.0</td>\n",
       "    </tr>\n",
       "    <tr>\n",
       "      <th>2</th>\n",
       "      <td>5008806</td>\n",
       "      <td>0</td>\n",
       "      <td>0</td>\n",
       "      <td>0</td>\n",
       "      <td>0</td>\n",
       "      <td>112500.0</td>\n",
       "      <td>0</td>\n",
       "      <td>0</td>\n",
       "      <td>0</td>\n",
       "      <td>0</td>\n",
       "      <td>59.0</td>\n",
       "      <td>3.0</td>\n",
       "      <td>2.0</td>\n",
       "    </tr>\n",
       "    <tr>\n",
       "      <th>3</th>\n",
       "      <td>5008808</td>\n",
       "      <td>1</td>\n",
       "      <td>1</td>\n",
       "      <td>0</td>\n",
       "      <td>0</td>\n",
       "      <td>270000.0</td>\n",
       "      <td>1</td>\n",
       "      <td>0</td>\n",
       "      <td>1</td>\n",
       "      <td>0</td>\n",
       "      <td>52.0</td>\n",
       "      <td>8.0</td>\n",
       "      <td>1.0</td>\n",
       "    </tr>\n",
       "    <tr>\n",
       "      <th>4</th>\n",
       "      <td>5008809</td>\n",
       "      <td>1</td>\n",
       "      <td>1</td>\n",
       "      <td>0</td>\n",
       "      <td>0</td>\n",
       "      <td>270000.0</td>\n",
       "      <td>1</td>\n",
       "      <td>0</td>\n",
       "      <td>1</td>\n",
       "      <td>0</td>\n",
       "      <td>52.0</td>\n",
       "      <td>8.0</td>\n",
       "      <td>1.0</td>\n",
       "    </tr>\n",
       "  </tbody>\n",
       "</table>\n",
       "</div>"
      ],
      "text/plain": [
       "        ID  GENDER  CAR_OWNER  PROPERTY_OWNER  CNT_CHILDREN    INCOME  \\\n",
       "0  5008804       0          0               0             0  427500.0   \n",
       "1  5008805       0          0               0             0  427500.0   \n",
       "2  5008806       0          0               0             0  112500.0   \n",
       "3  5008808       1          1               0             0  270000.0   \n",
       "4  5008809       1          1               0             0  270000.0   \n",
       "\n",
       "   INCOME_TYPE  EDUCATION  FAMILY_STATUS  HOUSING   AGE  YEARS_EMPLOYED  \\\n",
       "0            0          1              2        3  33.0            12.0   \n",
       "1            0          1              2        3  33.0            12.0   \n",
       "2            0          0              0        0  59.0             3.0   \n",
       "3            1          0              1        0  52.0             8.0   \n",
       "4            1          0              1        0  52.0             8.0   \n",
       "\n",
       "   CNT_FAM_MEMBERS  \n",
       "0              2.0  \n",
       "1              2.0  \n",
       "2              2.0  \n",
       "3              1.0  \n",
       "4              1.0  "
      ]
     },
     "execution_count": 53,
     "metadata": {},
     "output_type": "execute_result"
    }
   ],
   "source": [
    "df_app.head()"
   ]
  },
  {
   "cell_type": "code",
   "execution_count": 54,
   "id": "dd38ba27-1f0d-4636-a313-70d38c2e3dbc",
   "metadata": {},
   "outputs": [
    {
     "data": {
      "text/html": [
       "<div>\n",
       "<style scoped>\n",
       "    .dataframe tbody tr th:only-of-type {\n",
       "        vertical-align: middle;\n",
       "    }\n",
       "\n",
       "    .dataframe tbody tr th {\n",
       "        vertical-align: top;\n",
       "    }\n",
       "\n",
       "    .dataframe thead th {\n",
       "        text-align: right;\n",
       "    }\n",
       "</style>\n",
       "<table border=\"1\" class=\"dataframe\">\n",
       "  <thead>\n",
       "    <tr style=\"text-align: right;\">\n",
       "      <th></th>\n",
       "      <th>ID</th>\n",
       "      <th>MONTHS_BALANCE</th>\n",
       "      <th>STATUS</th>\n",
       "    </tr>\n",
       "  </thead>\n",
       "  <tbody>\n",
       "    <tr>\n",
       "      <th>0</th>\n",
       "      <td>5001711</td>\n",
       "      <td>0</td>\n",
       "      <td>X</td>\n",
       "    </tr>\n",
       "    <tr>\n",
       "      <th>1</th>\n",
       "      <td>5001711</td>\n",
       "      <td>-1</td>\n",
       "      <td>0</td>\n",
       "    </tr>\n",
       "    <tr>\n",
       "      <th>2</th>\n",
       "      <td>5001711</td>\n",
       "      <td>-2</td>\n",
       "      <td>0</td>\n",
       "    </tr>\n",
       "    <tr>\n",
       "      <th>3</th>\n",
       "      <td>5001711</td>\n",
       "      <td>-3</td>\n",
       "      <td>0</td>\n",
       "    </tr>\n",
       "    <tr>\n",
       "      <th>4</th>\n",
       "      <td>5001712</td>\n",
       "      <td>0</td>\n",
       "      <td>C</td>\n",
       "    </tr>\n",
       "  </tbody>\n",
       "</table>\n",
       "</div>"
      ],
      "text/plain": [
       "        ID  MONTHS_BALANCE STATUS\n",
       "0  5001711               0      X\n",
       "1  5001711              -1      0\n",
       "2  5001711              -2      0\n",
       "3  5001711              -3      0\n",
       "4  5001712               0      C"
      ]
     },
     "execution_count": 54,
     "metadata": {},
     "output_type": "execute_result"
    }
   ],
   "source": [
    "#Credit Record\n",
    "df_credit.head()"
   ]
  },
  {
   "cell_type": "code",
   "execution_count": 55,
   "id": "488a2b89-8d36-4a7b-b6b6-d528fd9e62ed",
   "metadata": {},
   "outputs": [
    {
     "data": {
      "text/plain": [
       "ID                0\n",
       "MONTHS_BALANCE    0\n",
       "STATUS            0\n",
       "dtype: int64"
      ]
     },
     "execution_count": 55,
     "metadata": {},
     "output_type": "execute_result"
    }
   ],
   "source": [
    "#checking for null values\n",
    "df_credit.isnull().sum() #no null"
   ]
  },
  {
   "cell_type": "code",
   "execution_count": 56,
   "id": "88270bfc-f670-4bd1-b0d6-59be863a08d3",
   "metadata": {},
   "outputs": [
    {
     "data": {
      "text/plain": [
       "C    442031\n",
       "0    383120\n",
       "X    209230\n",
       "1     11090\n",
       "5      1693\n",
       "2       868\n",
       "3       320\n",
       "4       223\n",
       "Name: STATUS, dtype: int64"
      ]
     },
     "execution_count": 56,
     "metadata": {},
     "output_type": "execute_result"
    }
   ],
   "source": [
    "df_credit['STATUS'].value_counts()"
   ]
  },
  {
   "cell_type": "code",
   "execution_count": 57,
   "id": "59e2c54e-8c0d-4515-8ee2-981e99a4a08d",
   "metadata": {},
   "outputs": [],
   "source": [
    "#categorizing status column, 0 = Good, 1 = Bad\n",
    "df_credit['STATUS'].replace(['C', 'X'], 0, inplace = True)\n",
    "df_credit['STATUS'].replace(['5', '2', '3', '4'], 1, inplace = True)"
   ]
  },
  {
   "cell_type": "code",
   "execution_count": 58,
   "id": "10b9c552-cb4d-482d-96b1-b0dd5eb1d7fc",
   "metadata": {},
   "outputs": [
    {
     "name": "stdout",
     "output_type": "stream",
     "text": [
      "<class 'pandas.core.frame.DataFrame'>\n",
      "RangeIndex: 1048575 entries, 0 to 1048574\n",
      "Data columns (total 3 columns):\n",
      " #   Column          Non-Null Count    Dtype\n",
      "---  ------          --------------    -----\n",
      " 0   ID              1048575 non-null  int64\n",
      " 1   MONTHS_BALANCE  1048575 non-null  int64\n",
      " 2   STATUS          1048575 non-null  int64\n",
      "dtypes: int64(3)\n",
      "memory usage: 24.0 MB\n"
     ]
    }
   ],
   "source": [
    "df_credit.info()"
   ]
  },
  {
   "cell_type": "code",
   "execution_count": 59,
   "id": "906b02ba-1270-4e6c-b0e8-132b7eede913",
   "metadata": {},
   "outputs": [],
   "source": [
    "df_credit.drop('MONTHS_BALANCE', axis = 1, inplace = True)"
   ]
  },
  {
   "cell_type": "code",
   "execution_count": 60,
   "id": "923b5f43-cb09-4dbc-b66b-cfc79185b7dd",
   "metadata": {},
   "outputs": [
    {
     "data": {
      "text/plain": [
       "0    98.646353\n",
       "1     1.353647\n",
       "Name: STATUS, dtype: float64"
      ]
     },
     "execution_count": 60,
     "metadata": {},
     "output_type": "execute_result"
    }
   ],
   "source": [
    "df_credit['STATUS'].value_counts(normalize = True) * 100"
   ]
  },
  {
   "cell_type": "code",
   "execution_count": 61,
   "id": "a4c5c5d3-70c8-4743-bb37-6eeddef74820",
   "metadata": {},
   "outputs": [],
   "source": [
    "credit_agg = df_credit.groupby('ID').agg(max).reset_index()"
   ]
  },
  {
   "cell_type": "code",
   "execution_count": 62,
   "id": "50787da3-4e5c-4548-ab4e-ad7f600120bf",
   "metadata": {},
   "outputs": [
    {
     "data": {
      "text/html": [
       "<div>\n",
       "<style scoped>\n",
       "    .dataframe tbody tr th:only-of-type {\n",
       "        vertical-align: middle;\n",
       "    }\n",
       "\n",
       "    .dataframe tbody tr th {\n",
       "        vertical-align: top;\n",
       "    }\n",
       "\n",
       "    .dataframe thead th {\n",
       "        text-align: right;\n",
       "    }\n",
       "</style>\n",
       "<table border=\"1\" class=\"dataframe\">\n",
       "  <thead>\n",
       "    <tr style=\"text-align: right;\">\n",
       "      <th></th>\n",
       "      <th>ID</th>\n",
       "      <th>STATUS</th>\n",
       "    </tr>\n",
       "  </thead>\n",
       "  <tbody>\n",
       "    <tr>\n",
       "      <th>0</th>\n",
       "      <td>5001711</td>\n",
       "      <td>0</td>\n",
       "    </tr>\n",
       "    <tr>\n",
       "      <th>1</th>\n",
       "      <td>5001712</td>\n",
       "      <td>0</td>\n",
       "    </tr>\n",
       "    <tr>\n",
       "      <th>2</th>\n",
       "      <td>5001713</td>\n",
       "      <td>0</td>\n",
       "    </tr>\n",
       "    <tr>\n",
       "      <th>3</th>\n",
       "      <td>5001714</td>\n",
       "      <td>0</td>\n",
       "    </tr>\n",
       "    <tr>\n",
       "      <th>4</th>\n",
       "      <td>5001715</td>\n",
       "      <td>0</td>\n",
       "    </tr>\n",
       "  </tbody>\n",
       "</table>\n",
       "</div>"
      ],
      "text/plain": [
       "        ID  STATUS\n",
       "0  5001711       0\n",
       "1  5001712       0\n",
       "2  5001713       0\n",
       "3  5001714       0\n",
       "4  5001715       0"
      ]
     },
     "execution_count": 62,
     "metadata": {},
     "output_type": "execute_result"
    }
   ],
   "source": [
    "credit_agg.head()"
   ]
  },
  {
   "cell_type": "code",
   "execution_count": 63,
   "id": "885f079c-15ae-438d-a794-c4a2bf186cf3",
   "metadata": {},
   "outputs": [
    {
     "data": {
      "text/html": [
       "<div>\n",
       "<style scoped>\n",
       "    .dataframe tbody tr th:only-of-type {\n",
       "        vertical-align: middle;\n",
       "    }\n",
       "\n",
       "    .dataframe tbody tr th {\n",
       "        vertical-align: top;\n",
       "    }\n",
       "\n",
       "    .dataframe thead th {\n",
       "        text-align: right;\n",
       "    }\n",
       "</style>\n",
       "<table border=\"1\" class=\"dataframe\">\n",
       "  <thead>\n",
       "    <tr style=\"text-align: right;\">\n",
       "      <th></th>\n",
       "      <th>ID</th>\n",
       "      <th>GENDER</th>\n",
       "      <th>CAR_OWNER</th>\n",
       "      <th>PROPERTY_OWNER</th>\n",
       "      <th>CNT_CHILDREN</th>\n",
       "      <th>INCOME</th>\n",
       "      <th>INCOME_TYPE</th>\n",
       "      <th>EDUCATION</th>\n",
       "      <th>FAMILY_STATUS</th>\n",
       "      <th>HOUSING</th>\n",
       "      <th>AGE</th>\n",
       "      <th>YEARS_EMPLOYED</th>\n",
       "      <th>CNT_FAM_MEMBERS</th>\n",
       "      <th>STATUS</th>\n",
       "    </tr>\n",
       "  </thead>\n",
       "  <tbody>\n",
       "    <tr>\n",
       "      <th>0</th>\n",
       "      <td>5008804</td>\n",
       "      <td>0</td>\n",
       "      <td>0</td>\n",
       "      <td>0</td>\n",
       "      <td>0</td>\n",
       "      <td>427500.0</td>\n",
       "      <td>0</td>\n",
       "      <td>1</td>\n",
       "      <td>2</td>\n",
       "      <td>3</td>\n",
       "      <td>33.0</td>\n",
       "      <td>12.0</td>\n",
       "      <td>2.0</td>\n",
       "      <td>1</td>\n",
       "    </tr>\n",
       "    <tr>\n",
       "      <th>1</th>\n",
       "      <td>5008805</td>\n",
       "      <td>0</td>\n",
       "      <td>0</td>\n",
       "      <td>0</td>\n",
       "      <td>0</td>\n",
       "      <td>427500.0</td>\n",
       "      <td>0</td>\n",
       "      <td>1</td>\n",
       "      <td>2</td>\n",
       "      <td>3</td>\n",
       "      <td>33.0</td>\n",
       "      <td>12.0</td>\n",
       "      <td>2.0</td>\n",
       "      <td>1</td>\n",
       "    </tr>\n",
       "    <tr>\n",
       "      <th>2</th>\n",
       "      <td>5008806</td>\n",
       "      <td>0</td>\n",
       "      <td>0</td>\n",
       "      <td>0</td>\n",
       "      <td>0</td>\n",
       "      <td>112500.0</td>\n",
       "      <td>0</td>\n",
       "      <td>0</td>\n",
       "      <td>0</td>\n",
       "      <td>0</td>\n",
       "      <td>59.0</td>\n",
       "      <td>3.0</td>\n",
       "      <td>2.0</td>\n",
       "      <td>0</td>\n",
       "    </tr>\n",
       "    <tr>\n",
       "      <th>3</th>\n",
       "      <td>5008808</td>\n",
       "      <td>1</td>\n",
       "      <td>1</td>\n",
       "      <td>0</td>\n",
       "      <td>0</td>\n",
       "      <td>270000.0</td>\n",
       "      <td>1</td>\n",
       "      <td>0</td>\n",
       "      <td>1</td>\n",
       "      <td>0</td>\n",
       "      <td>52.0</td>\n",
       "      <td>8.0</td>\n",
       "      <td>1.0</td>\n",
       "      <td>0</td>\n",
       "    </tr>\n",
       "    <tr>\n",
       "      <th>4</th>\n",
       "      <td>5008809</td>\n",
       "      <td>1</td>\n",
       "      <td>1</td>\n",
       "      <td>0</td>\n",
       "      <td>0</td>\n",
       "      <td>270000.0</td>\n",
       "      <td>1</td>\n",
       "      <td>0</td>\n",
       "      <td>1</td>\n",
       "      <td>0</td>\n",
       "      <td>52.0</td>\n",
       "      <td>8.0</td>\n",
       "      <td>1.0</td>\n",
       "      <td>0</td>\n",
       "    </tr>\n",
       "  </tbody>\n",
       "</table>\n",
       "</div>"
      ],
      "text/plain": [
       "        ID  GENDER  CAR_OWNER  PROPERTY_OWNER  CNT_CHILDREN    INCOME  \\\n",
       "0  5008804       0          0               0             0  427500.0   \n",
       "1  5008805       0          0               0             0  427500.0   \n",
       "2  5008806       0          0               0             0  112500.0   \n",
       "3  5008808       1          1               0             0  270000.0   \n",
       "4  5008809       1          1               0             0  270000.0   \n",
       "\n",
       "   INCOME_TYPE  EDUCATION  FAMILY_STATUS  HOUSING   AGE  YEARS_EMPLOYED  \\\n",
       "0            0          1              2        3  33.0            12.0   \n",
       "1            0          1              2        3  33.0            12.0   \n",
       "2            0          0              0        0  59.0             3.0   \n",
       "3            1          0              1        0  52.0             8.0   \n",
       "4            1          0              1        0  52.0             8.0   \n",
       "\n",
       "   CNT_FAM_MEMBERS  STATUS  \n",
       "0              2.0       1  \n",
       "1              2.0       1  \n",
       "2              2.0       0  \n",
       "3              1.0       0  \n",
       "4              1.0       0  "
      ]
     },
     "execution_count": 63,
     "metadata": {},
     "output_type": "execute_result"
    }
   ],
   "source": [
    "#inner join the two data frames\n",
    "df_final = pd.merge(df_app, credit_agg, on = 'ID', how = 'inner')\n",
    "df_final.head()"
   ]
  },
  {
   "cell_type": "code",
   "execution_count": 64,
   "id": "6c6dc1d1-025e-4ceb-90b8-f717f00c40bd",
   "metadata": {},
   "outputs": [
    {
     "data": {
      "text/plain": [
       "(36326, 14)"
      ]
     },
     "execution_count": 64,
     "metadata": {},
     "output_type": "execute_result"
    }
   ],
   "source": [
    "df_final.shape #final df has 36,326 rows and 14 columns"
   ]
  },
  {
   "cell_type": "code",
   "execution_count": 65,
   "id": "232089aa-6399-4305-86fb-8a8f3833a711",
   "metadata": {},
   "outputs": [],
   "source": [
    "#scaling income\n",
    "#from sklearn.preprocessing import MinMaxScaler\n",
    "#scaler = MinMaxScaler()\n",
    "#df_final['INCOME'] = scaler.fit_transform(df_final['INCOME'].values.reshape(-1, 1))\n"
   ]
  },
  {
   "cell_type": "code",
   "execution_count": 66,
   "id": "09f9470e-62e3-47c0-9367-60ffddee7005",
   "metadata": {},
   "outputs": [
    {
     "data": {
      "text/html": [
       "<div>\n",
       "<style scoped>\n",
       "    .dataframe tbody tr th:only-of-type {\n",
       "        vertical-align: middle;\n",
       "    }\n",
       "\n",
       "    .dataframe tbody tr th {\n",
       "        vertical-align: top;\n",
       "    }\n",
       "\n",
       "    .dataframe thead th {\n",
       "        text-align: right;\n",
       "    }\n",
       "</style>\n",
       "<table border=\"1\" class=\"dataframe\">\n",
       "  <thead>\n",
       "    <tr style=\"text-align: right;\">\n",
       "      <th></th>\n",
       "      <th>ID</th>\n",
       "      <th>GENDER</th>\n",
       "      <th>CAR_OWNER</th>\n",
       "      <th>PROPERTY_OWNER</th>\n",
       "      <th>CNT_CHILDREN</th>\n",
       "      <th>INCOME</th>\n",
       "      <th>INCOME_TYPE</th>\n",
       "      <th>EDUCATION</th>\n",
       "      <th>FAMILY_STATUS</th>\n",
       "      <th>HOUSING</th>\n",
       "      <th>AGE</th>\n",
       "      <th>YEARS_EMPLOYED</th>\n",
       "      <th>CNT_FAM_MEMBERS</th>\n",
       "      <th>STATUS</th>\n",
       "    </tr>\n",
       "  </thead>\n",
       "  <tbody>\n",
       "    <tr>\n",
       "      <th>0</th>\n",
       "      <td>5008804</td>\n",
       "      <td>0</td>\n",
       "      <td>0</td>\n",
       "      <td>0</td>\n",
       "      <td>0</td>\n",
       "      <td>427500.0</td>\n",
       "      <td>0</td>\n",
       "      <td>1</td>\n",
       "      <td>2</td>\n",
       "      <td>3</td>\n",
       "      <td>33.0</td>\n",
       "      <td>12.0</td>\n",
       "      <td>2.0</td>\n",
       "      <td>1</td>\n",
       "    </tr>\n",
       "    <tr>\n",
       "      <th>1</th>\n",
       "      <td>5008805</td>\n",
       "      <td>0</td>\n",
       "      <td>0</td>\n",
       "      <td>0</td>\n",
       "      <td>0</td>\n",
       "      <td>427500.0</td>\n",
       "      <td>0</td>\n",
       "      <td>1</td>\n",
       "      <td>2</td>\n",
       "      <td>3</td>\n",
       "      <td>33.0</td>\n",
       "      <td>12.0</td>\n",
       "      <td>2.0</td>\n",
       "      <td>1</td>\n",
       "    </tr>\n",
       "    <tr>\n",
       "      <th>2</th>\n",
       "      <td>5008806</td>\n",
       "      <td>0</td>\n",
       "      <td>0</td>\n",
       "      <td>0</td>\n",
       "      <td>0</td>\n",
       "      <td>112500.0</td>\n",
       "      <td>0</td>\n",
       "      <td>0</td>\n",
       "      <td>0</td>\n",
       "      <td>0</td>\n",
       "      <td>59.0</td>\n",
       "      <td>3.0</td>\n",
       "      <td>2.0</td>\n",
       "      <td>0</td>\n",
       "    </tr>\n",
       "    <tr>\n",
       "      <th>3</th>\n",
       "      <td>5008808</td>\n",
       "      <td>1</td>\n",
       "      <td>1</td>\n",
       "      <td>0</td>\n",
       "      <td>0</td>\n",
       "      <td>270000.0</td>\n",
       "      <td>1</td>\n",
       "      <td>0</td>\n",
       "      <td>1</td>\n",
       "      <td>0</td>\n",
       "      <td>52.0</td>\n",
       "      <td>8.0</td>\n",
       "      <td>1.0</td>\n",
       "      <td>0</td>\n",
       "    </tr>\n",
       "    <tr>\n",
       "      <th>4</th>\n",
       "      <td>5008809</td>\n",
       "      <td>1</td>\n",
       "      <td>1</td>\n",
       "      <td>0</td>\n",
       "      <td>0</td>\n",
       "      <td>270000.0</td>\n",
       "      <td>1</td>\n",
       "      <td>0</td>\n",
       "      <td>1</td>\n",
       "      <td>0</td>\n",
       "      <td>52.0</td>\n",
       "      <td>8.0</td>\n",
       "      <td>1.0</td>\n",
       "      <td>0</td>\n",
       "    </tr>\n",
       "  </tbody>\n",
       "</table>\n",
       "</div>"
      ],
      "text/plain": [
       "        ID  GENDER  CAR_OWNER  PROPERTY_OWNER  CNT_CHILDREN    INCOME  \\\n",
       "0  5008804       0          0               0             0  427500.0   \n",
       "1  5008805       0          0               0             0  427500.0   \n",
       "2  5008806       0          0               0             0  112500.0   \n",
       "3  5008808       1          1               0             0  270000.0   \n",
       "4  5008809       1          1               0             0  270000.0   \n",
       "\n",
       "   INCOME_TYPE  EDUCATION  FAMILY_STATUS  HOUSING   AGE  YEARS_EMPLOYED  \\\n",
       "0            0          1              2        3  33.0            12.0   \n",
       "1            0          1              2        3  33.0            12.0   \n",
       "2            0          0              0        0  59.0             3.0   \n",
       "3            1          0              1        0  52.0             8.0   \n",
       "4            1          0              1        0  52.0             8.0   \n",
       "\n",
       "   CNT_FAM_MEMBERS  STATUS  \n",
       "0              2.0       1  \n",
       "1              2.0       1  \n",
       "2              2.0       0  \n",
       "3              1.0       0  \n",
       "4              1.0       0  "
      ]
     },
     "execution_count": 66,
     "metadata": {},
     "output_type": "execute_result"
    }
   ],
   "source": [
    "df_final.head()"
   ]
  },
  {
   "cell_type": "code",
   "execution_count": 67,
   "id": "9c98dccf-0d68-41b7-b1ba-ceeb3bf12ae1",
   "metadata": {},
   "outputs": [],
   "source": [
    "#drop ID column not useful rn\n",
    "df = df_final.drop(['ID'], axis = 1)"
   ]
  },
  {
   "cell_type": "code",
   "execution_count": 68,
   "id": "e595b1d5-3936-49bf-b497-ea78de13f9a7",
   "metadata": {},
   "outputs": [],
   "source": [
    "x = df.drop(['STATUS'], axis = 1)\n",
    "y = df['STATUS']"
   ]
  },
  {
   "cell_type": "code",
   "execution_count": 69,
   "id": "8e978e5f-124f-4fb5-b845-d9a557de29ba",
   "metadata": {},
   "outputs": [],
   "source": [
    "#Machine Learning Model"
   ]
  },
  {
   "cell_type": "code",
   "execution_count": 70,
   "id": "4eca6237-2ba1-4d1e-9094-472454873924",
   "metadata": {},
   "outputs": [
    {
     "data": {
      "text/plain": [
       "((27244, 12), (9082, 12))"
      ]
     },
     "execution_count": 70,
     "metadata": {},
     "output_type": "execute_result"
    }
   ],
   "source": [
    "#split data into train and test sets\n",
    "from sklearn.model_selection import train_test_split\n",
    "xtrain, xtest, ytrain, ytest = train_test_split(x, y, test_size = 0.25, random_state = 10)\n",
    "xtrain.shape, xtest.shape"
   ]
  },
  {
   "cell_type": "code",
   "execution_count": 71,
   "id": "5f693459-5170-4927-baae-675e6480cd8f",
   "metadata": {},
   "outputs": [
    {
     "data": {
      "text/plain": [
       "LogisticRegression()"
      ]
     },
     "execution_count": 71,
     "metadata": {},
     "output_type": "execute_result"
    }
   ],
   "source": [
    "#logistic regression\n",
    "from sklearn.linear_model import LogisticRegression\n",
    "logistic = LogisticRegression()\n",
    "logistic.fit(xtrain, ytrain)"
   ]
  },
  {
   "cell_type": "code",
   "execution_count": 72,
   "id": "0f906aeb-c119-48ac-9a17-8aed62199657",
   "metadata": {},
   "outputs": [
    {
     "data": {
      "text/plain": [
       "array([0, 0, 0, ..., 0, 0, 0])"
      ]
     },
     "execution_count": 72,
     "metadata": {},
     "output_type": "execute_result"
    }
   ],
   "source": [
    "logistic.predict(xtest) #output of model predictions"
   ]
  },
  {
   "cell_type": "code",
   "execution_count": 73,
   "id": "1fbad36c-a685-4cca-bf91-adb75a67d808",
   "metadata": {},
   "outputs": [
    {
     "data": {
      "text/plain": [
       "array([0, 0, 0, ..., 0, 0, 0])"
      ]
     },
     "execution_count": 73,
     "metadata": {},
     "output_type": "execute_result"
    }
   ],
   "source": [
    "ytest.values #what the actual values are"
   ]
  },
  {
   "cell_type": "code",
   "execution_count": 74,
   "id": "8b202a42-5329-41ea-ad9a-e48476ba20b6",
   "metadata": {},
   "outputs": [
    {
     "data": {
      "text/plain": [
       "0.8839462673419951"
      ]
     },
     "execution_count": 74,
     "metadata": {},
     "output_type": "execute_result"
    }
   ],
   "source": [
    "#Using automatic Packages\n",
    "logistic.score(xtest, ytest)"
   ]
  },
  {
   "cell_type": "code",
   "execution_count": 75,
   "id": "94f5c9ee-84c9-4b7a-8b5e-eb086beb210d",
   "metadata": {},
   "outputs": [
    {
     "data": {
      "text/plain": [
       "0.8524554062981722"
      ]
     },
     "execution_count": 75,
     "metadata": {},
     "output_type": "execute_result"
    }
   ],
   "source": [
    "#K-Nearest Numbers\n",
    "from sklearn.neighbors import KNeighborsClassifier\n",
    "kn = KNeighborsClassifier(n_neighbors = 1)\n",
    "kn.fit(xtrain, ytrain)\n",
    "kn.score(xtest, ytest) #85% Accuracy"
   ]
  },
  {
   "cell_type": "code",
   "execution_count": 76,
   "id": "f0f1d805-1bd8-4936-a7e2-2e781632282e",
   "metadata": {},
   "outputs": [
    {
     "data": {
      "text/plain": [
       "0.8783307641488659"
      ]
     },
     "execution_count": 76,
     "metadata": {},
     "output_type": "execute_result"
    }
   ],
   "source": [
    "#Decision Trees\n",
    "from sklearn.tree import DecisionTreeClassifier\n",
    "dt = DecisionTreeClassifier()\n",
    "dt.fit(xtrain, ytrain)\n",
    "dt.score(xtest, ytest) #87% Accuracy"
   ]
  },
  {
   "cell_type": "code",
   "execution_count": 77,
   "id": "a7ea1860-16e9-41b4-8c02-81f88b4664c7",
   "metadata": {},
   "outputs": [
    {
     "data": {
      "text/plain": [
       "0.8839462673419951"
      ]
     },
     "execution_count": 77,
     "metadata": {},
     "output_type": "execute_result"
    }
   ],
   "source": [
    "#SVM\n",
    "from sklearn.svm import SVC\n",
    "svm = SVC()\n",
    "svm.fit(xtrain, ytrain)\n",
    "svm.score(xtest, ytest) #88% Accuracy\n"
   ]
  },
  {
   "cell_type": "code",
   "execution_count": 78,
   "id": "7fd00069-118c-4e93-98a5-ed555a3cb63a",
   "metadata": {},
   "outputs": [
    {
     "name": "stdout",
     "output_type": "stream",
     "text": [
      "Logistic Regression Model Accuracy:  88.3946267341995 %\n",
      "\n",
      "Confusion Matrix:\n",
      "[[8028    0]\n",
      " [1054    0]]\n",
      "\n",
      "Classification Report: \n",
      "              precision    recall  f1-score   support\n",
      "\n",
      "           0       0.88      1.00      0.94      8028\n",
      "           1       0.00      0.00      0.00      1054\n",
      "\n",
      "    accuracy                           0.88      9082\n",
      "   macro avg       0.44      0.50      0.47      9082\n",
      "weighted avg       0.78      0.88      0.83      9082\n",
      "\n"
     ]
    },
    {
     "name": "stderr",
     "output_type": "stream",
     "text": [
      "/Users/calebsiow/opt/anaconda3/lib/python3.8/site-packages/sklearn/metrics/_classification.py:1245: UndefinedMetricWarning: Precision and F-score are ill-defined and being set to 0.0 in labels with no predicted samples. Use `zero_division` parameter to control this behavior.\n",
      "  _warn_prf(average, modifier, msg_start, len(result))\n",
      "/Users/calebsiow/opt/anaconda3/lib/python3.8/site-packages/sklearn/metrics/_classification.py:1245: UndefinedMetricWarning: Precision and F-score are ill-defined and being set to 0.0 in labels with no predicted samples. Use `zero_division` parameter to control this behavior.\n",
      "  _warn_prf(average, modifier, msg_start, len(result))\n",
      "/Users/calebsiow/opt/anaconda3/lib/python3.8/site-packages/sklearn/metrics/_classification.py:1245: UndefinedMetricWarning: Precision and F-score are ill-defined and being set to 0.0 in labels with no predicted samples. Use `zero_division` parameter to control this behavior.\n",
      "  _warn_prf(average, modifier, msg_start, len(result))\n"
     ]
    }
   ],
   "source": [
    "#Confusion Matrix, Model Accuracy, Classification Report (LOGISTIC REGRESSION)\n",
    "from sklearn.metrics import classification_report, accuracy_score, confusion_matrix\n",
    "print(\"Logistic Regression Model Accuracy: \", logistic.score(xtest,ytest)* 100, \"%\")\n",
    "log_predict = logistic.predict(xtest)\n",
    "print(\"\\nConfusion Matrix:\")\n",
    "print(confusion_matrix(ytest, log_predict))\n",
    "print(\"\\nClassification Report: \")\n",
    "print(classification_report(ytest, log_predict))"
   ]
  },
  {
   "cell_type": "code",
   "execution_count": 79,
   "id": "89690e11-d221-49da-b459-457c043f7a53",
   "metadata": {},
   "outputs": [
    {
     "name": "stdout",
     "output_type": "stream",
     "text": [
      "K-Nearest Model Accuracy:  85.24554062981721 %\n",
      "\n",
      "Confusion Matrix:\n",
      "[[7326  702]\n",
      " [ 638  416]]\n",
      "\n",
      "Classification Report: \n",
      "              precision    recall  f1-score   support\n",
      "\n",
      "           0       0.92      0.91      0.92      8028\n",
      "           1       0.37      0.39      0.38      1054\n",
      "\n",
      "    accuracy                           0.85      9082\n",
      "   macro avg       0.65      0.65      0.65      9082\n",
      "weighted avg       0.86      0.85      0.85      9082\n",
      "\n"
     ]
    }
   ],
   "source": [
    "#Confusion Matrix, Model Accuracy, Classification Report (K-Nearest)\n",
    "print(\"K-Nearest Model Accuracy: \", kn.score(xtest,ytest)* 100, \"%\")\n",
    "kn_predict = kn.predict(xtest)\n",
    "print(\"\\nConfusion Matrix:\")\n",
    "print(confusion_matrix(ytest, kn_predict))\n",
    "print(\"\\nClassification Report: \")\n",
    "print(classification_report(ytest, kn_predict))"
   ]
  },
  {
   "cell_type": "code",
   "execution_count": 80,
   "id": "8c97bce7-ce6a-4443-b89a-b83b0b15e026",
   "metadata": {},
   "outputs": [
    {
     "name": "stdout",
     "output_type": "stream",
     "text": [
      "Decision Tree Model Accuracy:  87.83307641488659 %\n",
      "\n",
      "Confusion Matrix:\n",
      "[[7661  367]\n",
      " [ 738  316]]\n",
      "\n",
      "Classification Report: \n",
      "              precision    recall  f1-score   support\n",
      "\n",
      "           0       0.91      0.95      0.93      8028\n",
      "           1       0.46      0.30      0.36      1054\n",
      "\n",
      "    accuracy                           0.88      9082\n",
      "   macro avg       0.69      0.63      0.65      9082\n",
      "weighted avg       0.86      0.88      0.87      9082\n",
      "\n"
     ]
    }
   ],
   "source": [
    "#Confusion Matrix, Model Accuracy, Classification Report (Decision Tree)\n",
    "print(\"Decision Tree Model Accuracy: \", dt.score(xtest,ytest)* 100, \"%\")\n",
    "dt_predict = dt.predict(xtest)\n",
    "print(\"\\nConfusion Matrix:\")\n",
    "print(confusion_matrix(ytest, dt_predict))\n",
    "print(\"\\nClassification Report: \")\n",
    "print(classification_report(ytest, dt_predict))"
   ]
  },
  {
   "cell_type": "code",
   "execution_count": 81,
   "id": "ada4c3b8-ad93-461d-8187-8896057b9d13",
   "metadata": {},
   "outputs": [
    {
     "name": "stdout",
     "output_type": "stream",
     "text": [
      "Support Vector Classification Model Accuracy:  88.3946267341995 %\n",
      "\n",
      "Confusion Matrix:\n",
      "[[8028    0]\n",
      " [1054    0]]\n",
      "\n",
      "Classification Report: \n",
      "              precision    recall  f1-score   support\n",
      "\n",
      "           0       0.88      1.00      0.94      8028\n",
      "           1       0.00      0.00      0.00      1054\n",
      "\n",
      "    accuracy                           0.88      9082\n",
      "   macro avg       0.44      0.50      0.47      9082\n",
      "weighted avg       0.78      0.88      0.83      9082\n",
      "\n"
     ]
    },
    {
     "name": "stderr",
     "output_type": "stream",
     "text": [
      "/Users/calebsiow/opt/anaconda3/lib/python3.8/site-packages/sklearn/metrics/_classification.py:1245: UndefinedMetricWarning: Precision and F-score are ill-defined and being set to 0.0 in labels with no predicted samples. Use `zero_division` parameter to control this behavior.\n",
      "  _warn_prf(average, modifier, msg_start, len(result))\n",
      "/Users/calebsiow/opt/anaconda3/lib/python3.8/site-packages/sklearn/metrics/_classification.py:1245: UndefinedMetricWarning: Precision and F-score are ill-defined and being set to 0.0 in labels with no predicted samples. Use `zero_division` parameter to control this behavior.\n",
      "  _warn_prf(average, modifier, msg_start, len(result))\n",
      "/Users/calebsiow/opt/anaconda3/lib/python3.8/site-packages/sklearn/metrics/_classification.py:1245: UndefinedMetricWarning: Precision and F-score are ill-defined and being set to 0.0 in labels with no predicted samples. Use `zero_division` parameter to control this behavior.\n",
      "  _warn_prf(average, modifier, msg_start, len(result))\n"
     ]
    }
   ],
   "source": [
    "#Confusion Matrix, Model Accuracy, Classification Report (SVM)\n",
    "print(\"Support Vector Classification Model Accuracy: \", svm.score(xtest,ytest)* 100, \"%\")\n",
    "svm_predict = svm.predict(xtest)\n",
    "print(\"\\nConfusion Matrix:\")\n",
    "print(confusion_matrix(ytest, svm_predict))\n",
    "print(\"\\nClassification Report: \")\n",
    "print(classification_report(ytest, svm_predict))"
   ]
  },
  {
   "cell_type": "code",
   "execution_count": null,
   "id": "c1fdb058-7732-4c88-a92e-b84c6656b69b",
   "metadata": {},
   "outputs": [],
   "source": []
  }
 ],
 "metadata": {
  "kernelspec": {
   "display_name": "Python 3",
   "language": "python",
   "name": "python3"
  },
  "language_info": {
   "codemirror_mode": {
    "name": "ipython",
    "version": 3
   },
   "file_extension": ".py",
   "mimetype": "text/x-python",
   "name": "python",
   "nbconvert_exporter": "python",
   "pygments_lexer": "ipython3",
   "version": "3.8.8"
  }
 },
 "nbformat": 4,
 "nbformat_minor": 5
}
